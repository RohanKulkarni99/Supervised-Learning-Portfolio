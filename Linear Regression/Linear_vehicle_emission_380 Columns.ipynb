{
 "cells": [
  {
   "cell_type": "markdown",
   "metadata": {},
   "source": [
    "# Predicting Vehicle Emission using Linear & Ridge-Lasso"
   ]
  },
  {
   "cell_type": "markdown",
   "metadata": {},
   "source": [
    "# Author- Rohan Kulkarni"
   ]
  },
  {
   "cell_type": "code",
   "execution_count": 84,
   "metadata": {},
   "outputs": [],
   "source": [
    "import pandas as pd\n",
    "import numpy as np"
   ]
  },
  {
   "cell_type": "code",
   "execution_count": 85,
   "metadata": {},
   "outputs": [],
   "source": [
    "df=pd.read_csv(r'E:/Imarticus/5.LINEAR REGRESSION/train.csv')"
   ]
  },
  {
   "cell_type": "code",
   "execution_count": 86,
   "metadata": {},
   "outputs": [
    {
     "data": {
      "text/html": [
       "<div>\n",
       "<style scoped>\n",
       "    .dataframe tbody tr th:only-of-type {\n",
       "        vertical-align: middle;\n",
       "    }\n",
       "\n",
       "    .dataframe tbody tr th {\n",
       "        vertical-align: top;\n",
       "    }\n",
       "\n",
       "    .dataframe thead th {\n",
       "        text-align: right;\n",
       "    }\n",
       "</style>\n",
       "<table border=\"1\" class=\"dataframe\">\n",
       "  <thead>\n",
       "    <tr style=\"text-align: right;\">\n",
       "      <th></th>\n",
       "      <th>ID</th>\n",
       "      <th>y</th>\n",
       "      <th>X0</th>\n",
       "      <th>X1</th>\n",
       "      <th>X2</th>\n",
       "      <th>X3</th>\n",
       "      <th>X4</th>\n",
       "      <th>X5</th>\n",
       "      <th>X6</th>\n",
       "      <th>X8</th>\n",
       "      <th>...</th>\n",
       "      <th>X375</th>\n",
       "      <th>X376</th>\n",
       "      <th>X377</th>\n",
       "      <th>X378</th>\n",
       "      <th>X379</th>\n",
       "      <th>X380</th>\n",
       "      <th>X382</th>\n",
       "      <th>X383</th>\n",
       "      <th>X384</th>\n",
       "      <th>X385</th>\n",
       "    </tr>\n",
       "  </thead>\n",
       "  <tbody>\n",
       "    <tr>\n",
       "      <th>0</th>\n",
       "      <td>0</td>\n",
       "      <td>130.81</td>\n",
       "      <td>k</td>\n",
       "      <td>v</td>\n",
       "      <td>at</td>\n",
       "      <td>a</td>\n",
       "      <td>d</td>\n",
       "      <td>u</td>\n",
       "      <td>j</td>\n",
       "      <td>o</td>\n",
       "      <td>...</td>\n",
       "      <td>0</td>\n",
       "      <td>0</td>\n",
       "      <td>1</td>\n",
       "      <td>0</td>\n",
       "      <td>0</td>\n",
       "      <td>0</td>\n",
       "      <td>0</td>\n",
       "      <td>0</td>\n",
       "      <td>0</td>\n",
       "      <td>0</td>\n",
       "    </tr>\n",
       "    <tr>\n",
       "      <th>1</th>\n",
       "      <td>6</td>\n",
       "      <td>88.53</td>\n",
       "      <td>k</td>\n",
       "      <td>t</td>\n",
       "      <td>av</td>\n",
       "      <td>e</td>\n",
       "      <td>d</td>\n",
       "      <td>y</td>\n",
       "      <td>l</td>\n",
       "      <td>o</td>\n",
       "      <td>...</td>\n",
       "      <td>1</td>\n",
       "      <td>0</td>\n",
       "      <td>0</td>\n",
       "      <td>0</td>\n",
       "      <td>0</td>\n",
       "      <td>0</td>\n",
       "      <td>0</td>\n",
       "      <td>0</td>\n",
       "      <td>0</td>\n",
       "      <td>0</td>\n",
       "    </tr>\n",
       "    <tr>\n",
       "      <th>2</th>\n",
       "      <td>7</td>\n",
       "      <td>76.26</td>\n",
       "      <td>az</td>\n",
       "      <td>w</td>\n",
       "      <td>n</td>\n",
       "      <td>c</td>\n",
       "      <td>d</td>\n",
       "      <td>x</td>\n",
       "      <td>j</td>\n",
       "      <td>x</td>\n",
       "      <td>...</td>\n",
       "      <td>0</td>\n",
       "      <td>0</td>\n",
       "      <td>0</td>\n",
       "      <td>0</td>\n",
       "      <td>0</td>\n",
       "      <td>0</td>\n",
       "      <td>1</td>\n",
       "      <td>0</td>\n",
       "      <td>0</td>\n",
       "      <td>0</td>\n",
       "    </tr>\n",
       "    <tr>\n",
       "      <th>3</th>\n",
       "      <td>9</td>\n",
       "      <td>80.62</td>\n",
       "      <td>az</td>\n",
       "      <td>t</td>\n",
       "      <td>n</td>\n",
       "      <td>f</td>\n",
       "      <td>d</td>\n",
       "      <td>x</td>\n",
       "      <td>l</td>\n",
       "      <td>e</td>\n",
       "      <td>...</td>\n",
       "      <td>0</td>\n",
       "      <td>0</td>\n",
       "      <td>0</td>\n",
       "      <td>0</td>\n",
       "      <td>0</td>\n",
       "      <td>0</td>\n",
       "      <td>0</td>\n",
       "      <td>0</td>\n",
       "      <td>0</td>\n",
       "      <td>0</td>\n",
       "    </tr>\n",
       "    <tr>\n",
       "      <th>4</th>\n",
       "      <td>13</td>\n",
       "      <td>78.02</td>\n",
       "      <td>az</td>\n",
       "      <td>v</td>\n",
       "      <td>n</td>\n",
       "      <td>f</td>\n",
       "      <td>d</td>\n",
       "      <td>h</td>\n",
       "      <td>d</td>\n",
       "      <td>n</td>\n",
       "      <td>...</td>\n",
       "      <td>0</td>\n",
       "      <td>0</td>\n",
       "      <td>0</td>\n",
       "      <td>0</td>\n",
       "      <td>0</td>\n",
       "      <td>0</td>\n",
       "      <td>0</td>\n",
       "      <td>0</td>\n",
       "      <td>0</td>\n",
       "      <td>0</td>\n",
       "    </tr>\n",
       "    <tr>\n",
       "      <th>...</th>\n",
       "      <td>...</td>\n",
       "      <td>...</td>\n",
       "      <td>...</td>\n",
       "      <td>...</td>\n",
       "      <td>...</td>\n",
       "      <td>...</td>\n",
       "      <td>...</td>\n",
       "      <td>...</td>\n",
       "      <td>...</td>\n",
       "      <td>...</td>\n",
       "      <td>...</td>\n",
       "      <td>...</td>\n",
       "      <td>...</td>\n",
       "      <td>...</td>\n",
       "      <td>...</td>\n",
       "      <td>...</td>\n",
       "      <td>...</td>\n",
       "      <td>...</td>\n",
       "      <td>...</td>\n",
       "      <td>...</td>\n",
       "      <td>...</td>\n",
       "    </tr>\n",
       "    <tr>\n",
       "      <th>4204</th>\n",
       "      <td>8405</td>\n",
       "      <td>107.39</td>\n",
       "      <td>ak</td>\n",
       "      <td>s</td>\n",
       "      <td>as</td>\n",
       "      <td>c</td>\n",
       "      <td>d</td>\n",
       "      <td>aa</td>\n",
       "      <td>d</td>\n",
       "      <td>q</td>\n",
       "      <td>...</td>\n",
       "      <td>1</td>\n",
       "      <td>0</td>\n",
       "      <td>0</td>\n",
       "      <td>0</td>\n",
       "      <td>0</td>\n",
       "      <td>0</td>\n",
       "      <td>0</td>\n",
       "      <td>0</td>\n",
       "      <td>0</td>\n",
       "      <td>0</td>\n",
       "    </tr>\n",
       "    <tr>\n",
       "      <th>4205</th>\n",
       "      <td>8406</td>\n",
       "      <td>108.77</td>\n",
       "      <td>j</td>\n",
       "      <td>o</td>\n",
       "      <td>t</td>\n",
       "      <td>d</td>\n",
       "      <td>d</td>\n",
       "      <td>aa</td>\n",
       "      <td>h</td>\n",
       "      <td>h</td>\n",
       "      <td>...</td>\n",
       "      <td>0</td>\n",
       "      <td>1</td>\n",
       "      <td>0</td>\n",
       "      <td>0</td>\n",
       "      <td>0</td>\n",
       "      <td>0</td>\n",
       "      <td>0</td>\n",
       "      <td>0</td>\n",
       "      <td>0</td>\n",
       "      <td>0</td>\n",
       "    </tr>\n",
       "    <tr>\n",
       "      <th>4206</th>\n",
       "      <td>8412</td>\n",
       "      <td>109.22</td>\n",
       "      <td>ak</td>\n",
       "      <td>v</td>\n",
       "      <td>r</td>\n",
       "      <td>a</td>\n",
       "      <td>d</td>\n",
       "      <td>aa</td>\n",
       "      <td>g</td>\n",
       "      <td>e</td>\n",
       "      <td>...</td>\n",
       "      <td>0</td>\n",
       "      <td>0</td>\n",
       "      <td>1</td>\n",
       "      <td>0</td>\n",
       "      <td>0</td>\n",
       "      <td>0</td>\n",
       "      <td>0</td>\n",
       "      <td>0</td>\n",
       "      <td>0</td>\n",
       "      <td>0</td>\n",
       "    </tr>\n",
       "    <tr>\n",
       "      <th>4207</th>\n",
       "      <td>8415</td>\n",
       "      <td>87.48</td>\n",
       "      <td>al</td>\n",
       "      <td>r</td>\n",
       "      <td>e</td>\n",
       "      <td>f</td>\n",
       "      <td>d</td>\n",
       "      <td>aa</td>\n",
       "      <td>l</td>\n",
       "      <td>u</td>\n",
       "      <td>...</td>\n",
       "      <td>0</td>\n",
       "      <td>0</td>\n",
       "      <td>0</td>\n",
       "      <td>0</td>\n",
       "      <td>0</td>\n",
       "      <td>0</td>\n",
       "      <td>0</td>\n",
       "      <td>0</td>\n",
       "      <td>0</td>\n",
       "      <td>0</td>\n",
       "    </tr>\n",
       "    <tr>\n",
       "      <th>4208</th>\n",
       "      <td>8417</td>\n",
       "      <td>110.85</td>\n",
       "      <td>z</td>\n",
       "      <td>r</td>\n",
       "      <td>ae</td>\n",
       "      <td>c</td>\n",
       "      <td>d</td>\n",
       "      <td>aa</td>\n",
       "      <td>g</td>\n",
       "      <td>w</td>\n",
       "      <td>...</td>\n",
       "      <td>1</td>\n",
       "      <td>0</td>\n",
       "      <td>0</td>\n",
       "      <td>0</td>\n",
       "      <td>0</td>\n",
       "      <td>0</td>\n",
       "      <td>0</td>\n",
       "      <td>0</td>\n",
       "      <td>0</td>\n",
       "      <td>0</td>\n",
       "    </tr>\n",
       "  </tbody>\n",
       "</table>\n",
       "<p>4209 rows × 378 columns</p>\n",
       "</div>"
      ],
      "text/plain": [
       "        ID       y  X0 X1  X2 X3 X4  X5 X6 X8  ...  X375  X376  X377  X378  \\\n",
       "0        0  130.81   k  v  at  a  d   u  j  o  ...     0     0     1     0   \n",
       "1        6   88.53   k  t  av  e  d   y  l  o  ...     1     0     0     0   \n",
       "2        7   76.26  az  w   n  c  d   x  j  x  ...     0     0     0     0   \n",
       "3        9   80.62  az  t   n  f  d   x  l  e  ...     0     0     0     0   \n",
       "4       13   78.02  az  v   n  f  d   h  d  n  ...     0     0     0     0   \n",
       "...    ...     ...  .. ..  .. .. ..  .. .. ..  ...   ...   ...   ...   ...   \n",
       "4204  8405  107.39  ak  s  as  c  d  aa  d  q  ...     1     0     0     0   \n",
       "4205  8406  108.77   j  o   t  d  d  aa  h  h  ...     0     1     0     0   \n",
       "4206  8412  109.22  ak  v   r  a  d  aa  g  e  ...     0     0     1     0   \n",
       "4207  8415   87.48  al  r   e  f  d  aa  l  u  ...     0     0     0     0   \n",
       "4208  8417  110.85   z  r  ae  c  d  aa  g  w  ...     1     0     0     0   \n",
       "\n",
       "      X379  X380  X382  X383  X384  X385  \n",
       "0        0     0     0     0     0     0  \n",
       "1        0     0     0     0     0     0  \n",
       "2        0     0     1     0     0     0  \n",
       "3        0     0     0     0     0     0  \n",
       "4        0     0     0     0     0     0  \n",
       "...    ...   ...   ...   ...   ...   ...  \n",
       "4204     0     0     0     0     0     0  \n",
       "4205     0     0     0     0     0     0  \n",
       "4206     0     0     0     0     0     0  \n",
       "4207     0     0     0     0     0     0  \n",
       "4208     0     0     0     0     0     0  \n",
       "\n",
       "[4209 rows x 378 columns]"
      ]
     },
     "execution_count": 86,
     "metadata": {},
     "output_type": "execute_result"
    }
   ],
   "source": [
    "df"
   ]
  },
  {
   "cell_type": "code",
   "execution_count": 87,
   "metadata": {},
   "outputs": [
    {
     "data": {
      "text/plain": [
       "X385    0\n",
       "X132    0\n",
       "X123    0\n",
       "X124    0\n",
       "X125    0\n",
       "X126    0\n",
       "X127    0\n",
       "X128    0\n",
       "X129    0\n",
       "X130    0\n",
       "X131    0\n",
       "X133    0\n",
       "X120    0\n",
       "X134    0\n",
       "X135    0\n",
       "X136    0\n",
       "X137    0\n",
       "X138    0\n",
       "X139    0\n",
       "X140    0\n",
       "X141    0\n",
       "X142    0\n",
       "X122    0\n",
       "X119    0\n",
       "X96     0\n",
       "X107    0\n",
       "X98     0\n",
       "X99     0\n",
       "X100    0\n",
       "X101    0\n",
       "X102    0\n",
       "X103    0\n",
       "X104    0\n",
       "X105    0\n",
       "X106    0\n",
       "X108    0\n",
       "X118    0\n",
       "X109    0\n",
       "X110    0\n",
       "X111    0\n",
       "X112    0\n",
       "X113    0\n",
       "X114    0\n",
       "X115    0\n",
       "X116    0\n",
       "X117    0\n",
       "X143    0\n",
       "X144    0\n",
       "X145    0\n",
       "X180    0\n",
       "dtype: int64"
      ]
     },
     "execution_count": 87,
     "metadata": {},
     "output_type": "execute_result"
    }
   ],
   "source": [
    "df.isnull().sum().sort_values(ascending=False).head(50)"
   ]
  },
  {
   "cell_type": "code",
   "execution_count": 88,
   "metadata": {},
   "outputs": [
    {
     "name": "stdout",
     "output_type": "stream",
     "text": [
      "<class 'pandas.core.frame.DataFrame'>\n",
      "RangeIndex: 4209 entries, 0 to 4208\n",
      "Columns: 378 entries, ID to X385\n",
      "dtypes: float64(1), int64(369), object(8)\n",
      "memory usage: 12.1+ MB\n"
     ]
    }
   ],
   "source": [
    "df.info()"
   ]
  },
  {
   "cell_type": "code",
   "execution_count": 89,
   "metadata": {},
   "outputs": [
    {
     "data": {
      "text/html": [
       "<div>\n",
       "<style scoped>\n",
       "    .dataframe tbody tr th:only-of-type {\n",
       "        vertical-align: middle;\n",
       "    }\n",
       "\n",
       "    .dataframe tbody tr th {\n",
       "        vertical-align: top;\n",
       "    }\n",
       "\n",
       "    .dataframe thead th {\n",
       "        text-align: right;\n",
       "    }\n",
       "</style>\n",
       "<table border=\"1\" class=\"dataframe\">\n",
       "  <thead>\n",
       "    <tr style=\"text-align: right;\">\n",
       "      <th></th>\n",
       "      <th>X0</th>\n",
       "      <th>X1</th>\n",
       "      <th>X2</th>\n",
       "      <th>X3</th>\n",
       "      <th>X4</th>\n",
       "      <th>X5</th>\n",
       "      <th>X6</th>\n",
       "      <th>X8</th>\n",
       "    </tr>\n",
       "  </thead>\n",
       "  <tbody>\n",
       "    <tr>\n",
       "      <th>0</th>\n",
       "      <td>k</td>\n",
       "      <td>v</td>\n",
       "      <td>at</td>\n",
       "      <td>a</td>\n",
       "      <td>d</td>\n",
       "      <td>u</td>\n",
       "      <td>j</td>\n",
       "      <td>o</td>\n",
       "    </tr>\n",
       "    <tr>\n",
       "      <th>1</th>\n",
       "      <td>k</td>\n",
       "      <td>t</td>\n",
       "      <td>av</td>\n",
       "      <td>e</td>\n",
       "      <td>d</td>\n",
       "      <td>y</td>\n",
       "      <td>l</td>\n",
       "      <td>o</td>\n",
       "    </tr>\n",
       "    <tr>\n",
       "      <th>2</th>\n",
       "      <td>az</td>\n",
       "      <td>w</td>\n",
       "      <td>n</td>\n",
       "      <td>c</td>\n",
       "      <td>d</td>\n",
       "      <td>x</td>\n",
       "      <td>j</td>\n",
       "      <td>x</td>\n",
       "    </tr>\n",
       "    <tr>\n",
       "      <th>3</th>\n",
       "      <td>az</td>\n",
       "      <td>t</td>\n",
       "      <td>n</td>\n",
       "      <td>f</td>\n",
       "      <td>d</td>\n",
       "      <td>x</td>\n",
       "      <td>l</td>\n",
       "      <td>e</td>\n",
       "    </tr>\n",
       "    <tr>\n",
       "      <th>4</th>\n",
       "      <td>az</td>\n",
       "      <td>v</td>\n",
       "      <td>n</td>\n",
       "      <td>f</td>\n",
       "      <td>d</td>\n",
       "      <td>h</td>\n",
       "      <td>d</td>\n",
       "      <td>n</td>\n",
       "    </tr>\n",
       "    <tr>\n",
       "      <th>...</th>\n",
       "      <td>...</td>\n",
       "      <td>...</td>\n",
       "      <td>...</td>\n",
       "      <td>...</td>\n",
       "      <td>...</td>\n",
       "      <td>...</td>\n",
       "      <td>...</td>\n",
       "      <td>...</td>\n",
       "    </tr>\n",
       "    <tr>\n",
       "      <th>4204</th>\n",
       "      <td>ak</td>\n",
       "      <td>s</td>\n",
       "      <td>as</td>\n",
       "      <td>c</td>\n",
       "      <td>d</td>\n",
       "      <td>aa</td>\n",
       "      <td>d</td>\n",
       "      <td>q</td>\n",
       "    </tr>\n",
       "    <tr>\n",
       "      <th>4205</th>\n",
       "      <td>j</td>\n",
       "      <td>o</td>\n",
       "      <td>t</td>\n",
       "      <td>d</td>\n",
       "      <td>d</td>\n",
       "      <td>aa</td>\n",
       "      <td>h</td>\n",
       "      <td>h</td>\n",
       "    </tr>\n",
       "    <tr>\n",
       "      <th>4206</th>\n",
       "      <td>ak</td>\n",
       "      <td>v</td>\n",
       "      <td>r</td>\n",
       "      <td>a</td>\n",
       "      <td>d</td>\n",
       "      <td>aa</td>\n",
       "      <td>g</td>\n",
       "      <td>e</td>\n",
       "    </tr>\n",
       "    <tr>\n",
       "      <th>4207</th>\n",
       "      <td>al</td>\n",
       "      <td>r</td>\n",
       "      <td>e</td>\n",
       "      <td>f</td>\n",
       "      <td>d</td>\n",
       "      <td>aa</td>\n",
       "      <td>l</td>\n",
       "      <td>u</td>\n",
       "    </tr>\n",
       "    <tr>\n",
       "      <th>4208</th>\n",
       "      <td>z</td>\n",
       "      <td>r</td>\n",
       "      <td>ae</td>\n",
       "      <td>c</td>\n",
       "      <td>d</td>\n",
       "      <td>aa</td>\n",
       "      <td>g</td>\n",
       "      <td>w</td>\n",
       "    </tr>\n",
       "  </tbody>\n",
       "</table>\n",
       "<p>4209 rows × 8 columns</p>\n",
       "</div>"
      ],
      "text/plain": [
       "      X0 X1  X2 X3 X4  X5 X6 X8\n",
       "0      k  v  at  a  d   u  j  o\n",
       "1      k  t  av  e  d   y  l  o\n",
       "2     az  w   n  c  d   x  j  x\n",
       "3     az  t   n  f  d   x  l  e\n",
       "4     az  v   n  f  d   h  d  n\n",
       "...   .. ..  .. .. ..  .. .. ..\n",
       "4204  ak  s  as  c  d  aa  d  q\n",
       "4205   j  o   t  d  d  aa  h  h\n",
       "4206  ak  v   r  a  d  aa  g  e\n",
       "4207  al  r   e  f  d  aa  l  u\n",
       "4208   z  r  ae  c  d  aa  g  w\n",
       "\n",
       "[4209 rows x 8 columns]"
      ]
     },
     "execution_count": 89,
     "metadata": {},
     "output_type": "execute_result"
    }
   ],
   "source": [
    "df.select_dtypes(include='object')"
   ]
  },
  {
   "cell_type": "code",
   "execution_count": 90,
   "metadata": {},
   "outputs": [],
   "source": [
    "from sklearn.preprocessing import LabelEncoder"
   ]
  },
  {
   "cell_type": "code",
   "execution_count": 91,
   "metadata": {},
   "outputs": [],
   "source": [
    "le=LabelEncoder()"
   ]
  },
  {
   "cell_type": "code",
   "execution_count": 92,
   "metadata": {},
   "outputs": [],
   "source": [
    "df[df.select_dtypes(include=['object']).columns]=df[df.select_dtypes(include=['object']).columns].apply(le.fit_transform)"
   ]
  },
  {
   "cell_type": "code",
   "execution_count": 93,
   "metadata": {},
   "outputs": [
    {
     "name": "stdout",
     "output_type": "stream",
     "text": [
      "<class 'pandas.core.frame.DataFrame'>\n",
      "RangeIndex: 4209 entries, 0 to 4208\n",
      "Columns: 378 entries, ID to X385\n",
      "dtypes: float64(1), int32(8), int64(369)\n",
      "memory usage: 12.0 MB\n"
     ]
    }
   ],
   "source": [
    "df.info()"
   ]
  },
  {
   "cell_type": "code",
   "execution_count": 94,
   "metadata": {},
   "outputs": [],
   "source": [
    "df.drop(columns='ID',inplace=True)"
   ]
  },
  {
   "cell_type": "code",
   "execution_count": 95,
   "metadata": {},
   "outputs": [],
   "source": [
    "import seaborn as sns"
   ]
  },
  {
   "cell_type": "code",
   "execution_count": 96,
   "metadata": {},
   "outputs": [
    {
     "data": {
      "text/plain": [
       "<matplotlib.axes._subplots.AxesSubplot at 0x1da1f460490>"
      ]
     },
     "execution_count": 96,
     "metadata": {},
     "output_type": "execute_result"
    },
    {
     "data": {
      "image/png": "[encoded data removed]",
      "text/plain": [
       "<Figure size 432x288 with 1 Axes>"
      ]
     },
     "metadata": {
      "needs_background": "light"
     },
     "output_type": "display_data"
    }
   ],
   "source": [
    "sns.boxplot(y='y',data=df)"
   ]
  },
  {
   "cell_type": "code",
   "execution_count": 97,
   "metadata": {},
   "outputs": [
    {
     "data": {
      "text/html": [
       "<div>\n",
       "<style scoped>\n",
       "    .dataframe tbody tr th:only-of-type {\n",
       "        vertical-align: middle;\n",
       "    }\n",
       "\n",
       "    .dataframe tbody tr th {\n",
       "        vertical-align: top;\n",
       "    }\n",
       "\n",
       "    .dataframe thead th {\n",
       "        text-align: right;\n",
       "    }\n",
       "</style>\n",
       "<table border=\"1\" class=\"dataframe\">\n",
       "  <thead>\n",
       "    <tr style=\"text-align: right;\">\n",
       "      <th></th>\n",
       "      <th>y</th>\n",
       "      <th>X0</th>\n",
       "      <th>X1</th>\n",
       "      <th>X2</th>\n",
       "      <th>X3</th>\n",
       "      <th>X4</th>\n",
       "      <th>X5</th>\n",
       "      <th>X6</th>\n",
       "      <th>X8</th>\n",
       "      <th>X10</th>\n",
       "      <th>...</th>\n",
       "      <th>X375</th>\n",
       "      <th>X376</th>\n",
       "      <th>X377</th>\n",
       "      <th>X378</th>\n",
       "      <th>X379</th>\n",
       "      <th>X380</th>\n",
       "      <th>X382</th>\n",
       "      <th>X383</th>\n",
       "      <th>X384</th>\n",
       "      <th>X385</th>\n",
       "    </tr>\n",
       "  </thead>\n",
       "  <tbody>\n",
       "    <tr>\n",
       "      <th>0</th>\n",
       "      <td>130.81</td>\n",
       "      <td>32</td>\n",
       "      <td>23</td>\n",
       "      <td>17</td>\n",
       "      <td>0</td>\n",
       "      <td>3</td>\n",
       "      <td>24</td>\n",
       "      <td>9</td>\n",
       "      <td>14</td>\n",
       "      <td>0</td>\n",
       "      <td>...</td>\n",
       "      <td>0</td>\n",
       "      <td>0</td>\n",
       "      <td>1</td>\n",
       "      <td>0</td>\n",
       "      <td>0</td>\n",
       "      <td>0</td>\n",
       "      <td>0</td>\n",
       "      <td>0</td>\n",
       "      <td>0</td>\n",
       "      <td>0</td>\n",
       "    </tr>\n",
       "    <tr>\n",
       "      <th>1</th>\n",
       "      <td>88.53</td>\n",
       "      <td>32</td>\n",
       "      <td>21</td>\n",
       "      <td>19</td>\n",
       "      <td>4</td>\n",
       "      <td>3</td>\n",
       "      <td>28</td>\n",
       "      <td>11</td>\n",
       "      <td>14</td>\n",
       "      <td>0</td>\n",
       "      <td>...</td>\n",
       "      <td>1</td>\n",
       "      <td>0</td>\n",
       "      <td>0</td>\n",
       "      <td>0</td>\n",
       "      <td>0</td>\n",
       "      <td>0</td>\n",
       "      <td>0</td>\n",
       "      <td>0</td>\n",
       "      <td>0</td>\n",
       "      <td>0</td>\n",
       "    </tr>\n",
       "    <tr>\n",
       "      <th>2</th>\n",
       "      <td>76.26</td>\n",
       "      <td>20</td>\n",
       "      <td>24</td>\n",
       "      <td>34</td>\n",
       "      <td>2</td>\n",
       "      <td>3</td>\n",
       "      <td>27</td>\n",
       "      <td>9</td>\n",
       "      <td>23</td>\n",
       "      <td>0</td>\n",
       "      <td>...</td>\n",
       "      <td>0</td>\n",
       "      <td>0</td>\n",
       "      <td>0</td>\n",
       "      <td>0</td>\n",
       "      <td>0</td>\n",
       "      <td>0</td>\n",
       "      <td>1</td>\n",
       "      <td>0</td>\n",
       "      <td>0</td>\n",
       "      <td>0</td>\n",
       "    </tr>\n",
       "    <tr>\n",
       "      <th>3</th>\n",
       "      <td>80.62</td>\n",
       "      <td>20</td>\n",
       "      <td>21</td>\n",
       "      <td>34</td>\n",
       "      <td>5</td>\n",
       "      <td>3</td>\n",
       "      <td>27</td>\n",
       "      <td>11</td>\n",
       "      <td>4</td>\n",
       "      <td>0</td>\n",
       "      <td>...</td>\n",
       "      <td>0</td>\n",
       "      <td>0</td>\n",
       "      <td>0</td>\n",
       "      <td>0</td>\n",
       "      <td>0</td>\n",
       "      <td>0</td>\n",
       "      <td>0</td>\n",
       "      <td>0</td>\n",
       "      <td>0</td>\n",
       "      <td>0</td>\n",
       "    </tr>\n",
       "    <tr>\n",
       "      <th>4</th>\n",
       "      <td>78.02</td>\n",
       "      <td>20</td>\n",
       "      <td>23</td>\n",
       "      <td>34</td>\n",
       "      <td>5</td>\n",
       "      <td>3</td>\n",
       "      <td>12</td>\n",
       "      <td>3</td>\n",
       "      <td>13</td>\n",
       "      <td>0</td>\n",
       "      <td>...</td>\n",
       "      <td>0</td>\n",
       "      <td>0</td>\n",
       "      <td>0</td>\n",
       "      <td>0</td>\n",
       "      <td>0</td>\n",
       "      <td>0</td>\n",
       "      <td>0</td>\n",
       "      <td>0</td>\n",
       "      <td>0</td>\n",
       "      <td>0</td>\n",
       "    </tr>\n",
       "    <tr>\n",
       "      <th>...</th>\n",
       "      <td>...</td>\n",
       "      <td>...</td>\n",
       "      <td>...</td>\n",
       "      <td>...</td>\n",
       "      <td>...</td>\n",
       "      <td>...</td>\n",
       "      <td>...</td>\n",
       "      <td>...</td>\n",
       "      <td>...</td>\n",
       "      <td>...</td>\n",
       "      <td>...</td>\n",
       "      <td>...</td>\n",
       "      <td>...</td>\n",
       "      <td>...</td>\n",
       "      <td>...</td>\n",
       "      <td>...</td>\n",
       "      <td>...</td>\n",
       "      <td>...</td>\n",
       "      <td>...</td>\n",
       "      <td>...</td>\n",
       "      <td>...</td>\n",
       "    </tr>\n",
       "    <tr>\n",
       "      <th>4204</th>\n",
       "      <td>107.39</td>\n",
       "      <td>8</td>\n",
       "      <td>20</td>\n",
       "      <td>16</td>\n",
       "      <td>2</td>\n",
       "      <td>3</td>\n",
       "      <td>0</td>\n",
       "      <td>3</td>\n",
       "      <td>16</td>\n",
       "      <td>0</td>\n",
       "      <td>...</td>\n",
       "      <td>1</td>\n",
       "      <td>0</td>\n",
       "      <td>0</td>\n",
       "      <td>0</td>\n",
       "      <td>0</td>\n",
       "      <td>0</td>\n",
       "      <td>0</td>\n",
       "      <td>0</td>\n",
       "      <td>0</td>\n",
       "      <td>0</td>\n",
       "    </tr>\n",
       "    <tr>\n",
       "      <th>4205</th>\n",
       "      <td>108.77</td>\n",
       "      <td>31</td>\n",
       "      <td>16</td>\n",
       "      <td>40</td>\n",
       "      <td>3</td>\n",
       "      <td>3</td>\n",
       "      <td>0</td>\n",
       "      <td>7</td>\n",
       "      <td>7</td>\n",
       "      <td>0</td>\n",
       "      <td>...</td>\n",
       "      <td>0</td>\n",
       "      <td>1</td>\n",
       "      <td>0</td>\n",
       "      <td>0</td>\n",
       "      <td>0</td>\n",
       "      <td>0</td>\n",
       "      <td>0</td>\n",
       "      <td>0</td>\n",
       "      <td>0</td>\n",
       "      <td>0</td>\n",
       "    </tr>\n",
       "    <tr>\n",
       "      <th>4206</th>\n",
       "      <td>109.22</td>\n",
       "      <td>8</td>\n",
       "      <td>23</td>\n",
       "      <td>38</td>\n",
       "      <td>0</td>\n",
       "      <td>3</td>\n",
       "      <td>0</td>\n",
       "      <td>6</td>\n",
       "      <td>4</td>\n",
       "      <td>0</td>\n",
       "      <td>...</td>\n",
       "      <td>0</td>\n",
       "      <td>0</td>\n",
       "      <td>1</td>\n",
       "      <td>0</td>\n",
       "      <td>0</td>\n",
       "      <td>0</td>\n",
       "      <td>0</td>\n",
       "      <td>0</td>\n",
       "      <td>0</td>\n",
       "      <td>0</td>\n",
       "    </tr>\n",
       "    <tr>\n",
       "      <th>4207</th>\n",
       "      <td>87.48</td>\n",
       "      <td>9</td>\n",
       "      <td>19</td>\n",
       "      <td>25</td>\n",
       "      <td>5</td>\n",
       "      <td>3</td>\n",
       "      <td>0</td>\n",
       "      <td>11</td>\n",
       "      <td>20</td>\n",
       "      <td>0</td>\n",
       "      <td>...</td>\n",
       "      <td>0</td>\n",
       "      <td>0</td>\n",
       "      <td>0</td>\n",
       "      <td>0</td>\n",
       "      <td>0</td>\n",
       "      <td>0</td>\n",
       "      <td>0</td>\n",
       "      <td>0</td>\n",
       "      <td>0</td>\n",
       "      <td>0</td>\n",
       "    </tr>\n",
       "    <tr>\n",
       "      <th>4208</th>\n",
       "      <td>110.85</td>\n",
       "      <td>46</td>\n",
       "      <td>19</td>\n",
       "      <td>3</td>\n",
       "      <td>2</td>\n",
       "      <td>3</td>\n",
       "      <td>0</td>\n",
       "      <td>6</td>\n",
       "      <td>22</td>\n",
       "      <td>0</td>\n",
       "      <td>...</td>\n",
       "      <td>1</td>\n",
       "      <td>0</td>\n",
       "      <td>0</td>\n",
       "      <td>0</td>\n",
       "      <td>0</td>\n",
       "      <td>0</td>\n",
       "      <td>0</td>\n",
       "      <td>0</td>\n",
       "      <td>0</td>\n",
       "      <td>0</td>\n",
       "    </tr>\n",
       "  </tbody>\n",
       "</table>\n",
       "<p>4209 rows × 377 columns</p>\n",
       "</div>"
      ],
      "text/plain": [
       "           y  X0  X1  X2  X3  X4  X5  X6  X8  X10  ...  X375  X376  X377  \\\n",
       "0     130.81  32  23  17   0   3  24   9  14    0  ...     0     0     1   \n",
       "1      88.53  32  21  19   4   3  28  11  14    0  ...     1     0     0   \n",
       "2      76.26  20  24  34   2   3  27   9  23    0  ...     0     0     0   \n",
       "3      80.62  20  21  34   5   3  27  11   4    0  ...     0     0     0   \n",
       "4      78.02  20  23  34   5   3  12   3  13    0  ...     0     0     0   \n",
       "...      ...  ..  ..  ..  ..  ..  ..  ..  ..  ...  ...   ...   ...   ...   \n",
       "4204  107.39   8  20  16   2   3   0   3  16    0  ...     1     0     0   \n",
       "4205  108.77  31  16  40   3   3   0   7   7    0  ...     0     1     0   \n",
       "4206  109.22   8  23  38   0   3   0   6   4    0  ...     0     0     1   \n",
       "4207   87.48   9  19  25   5   3   0  11  20    0  ...     0     0     0   \n",
       "4208  110.85  46  19   3   2   3   0   6  22    0  ...     1     0     0   \n",
       "\n",
       "      X378  X379  X380  X382  X383  X384  X385  \n",
       "0        0     0     0     0     0     0     0  \n",
       "1        0     0     0     0     0     0     0  \n",
       "2        0     0     0     1     0     0     0  \n",
       "3        0     0     0     0     0     0     0  \n",
       "4        0     0     0     0     0     0     0  \n",
       "...    ...   ...   ...   ...   ...   ...   ...  \n",
       "4204     0     0     0     0     0     0     0  \n",
       "4205     0     0     0     0     0     0     0  \n",
       "4206     0     0     0     0     0     0     0  \n",
       "4207     0     0     0     0     0     0     0  \n",
       "4208     0     0     0     0     0     0     0  \n",
       "\n",
       "[4209 rows x 377 columns]"
      ]
     },
     "execution_count": 97,
     "metadata": {},
     "output_type": "execute_result"
    }
   ],
   "source": [
    "df"
   ]
  },
  {
   "cell_type": "markdown",
   "metadata": {},
   "source": [
    "### Sampling"
   ]
  },
  {
   "cell_type": "code",
   "execution_count": 127,
   "metadata": {},
   "outputs": [],
   "source": [
    "from sklearn.model_selection import train_test_split"
   ]
  },
  {
   "cell_type": "code",
   "execution_count": 128,
   "metadata": {},
   "outputs": [],
   "source": [
    "df_train,df_test = train_test_split(df,test_size=.2,random_state=100)"
   ]
  },
  {
   "cell_type": "code",
   "execution_count": 129,
   "metadata": {},
   "outputs": [],
   "source": [
    "df_train_x=df_train.iloc[:,1:]\n",
    "df_train_y=df_train.iloc[:,0]\n",
    "\n",
    "df_test_x=df_test.iloc[:,1:]\n",
    "df_test_y=df_test.iloc[:,0]\n"
   ]
  },
  {
   "cell_type": "code",
   "execution_count": 130,
   "metadata": {},
   "outputs": [],
   "source": [
    "from sklearn.linear_model import LinearRegression"
   ]
  },
  {
   "cell_type": "code",
   "execution_count": 131,
   "metadata": {},
   "outputs": [],
   "source": [
    "lr=LinearRegression()"
   ]
  },
  {
   "cell_type": "code",
   "execution_count": 132,
   "metadata": {},
   "outputs": [
    {
     "data": {
      "text/plain": [
       "LinearRegression()"
      ]
     },
     "execution_count": 132,
     "metadata": {},
     "output_type": "execute_result"
    }
   ],
   "source": [
    "lr.fit(df_train_x,df_train_y)"
   ]
  },
  {
   "cell_type": "code",
   "execution_count": 133,
   "metadata": {},
   "outputs": [],
   "source": [
    "pred_train=lr.predict(df_train_x)"
   ]
  },
  {
   "cell_type": "code",
   "execution_count": 134,
   "metadata": {},
   "outputs": [],
   "source": [
    "pred_test=lr.predict(df_test_x)"
   ]
  },
  {
   "cell_type": "code",
   "execution_count": 135,
   "metadata": {},
   "outputs": [
    {
     "data": {
      "text/plain": [
       "array([ 4.06081928e-02, -1.40443736e-02,  3.72435260e-02,  5.41073218e-02,\n",
       "        1.99237049e-01, -3.54942664e-02, -4.84249385e-02, -3.51739280e-03,\n",
       "        4.00283036e+10,  5.02256439e+10,  4.00283036e+10, -4.15916187e+10,\n",
       "        4.00283036e+10,  2.94534332e+11,  4.00283036e+10, -8.28501263e+10,\n",
       "        4.00283036e+10,  4.00283036e+10,  4.00283036e+10, -1.14812107e+11,\n",
       "        4.00283036e+10,  4.00283036e+10, -9.96619567e+08,  4.00283036e+10,\n",
       "       -3.91710758e-01,  4.00283036e+10, -3.73927535e+10,  4.00283036e+10,\n",
       "        2.66580109e+11,  4.00283036e+10,  4.04938766e+10,  4.00283037e+10,\n",
       "       -1.42289972e+11,  4.00283036e+10, -1.24290136e+11, -9.94600177e-01,\n",
       "        4.24585604e+10, -1.34929248e+10, -1.34929248e+10,  2.21892089e+00,\n",
       "       -1.96685322e+00, -3.67576953e+09, -4.64799309e+00,  1.81180239e-01,\n",
       "        7.34158702e+00, -8.80033336e+10,  4.57780838e+00, -1.46630287e-01,\n",
       "        4.07450199e-01,  1.60509156e+11,  2.61465388e+11, -1.77580219e+11,\n",
       "       -1.81604791e+00, -9.13698673e-02, -7.15875626e-02,  4.08639642e+11,\n",
       "       -1.80840131e+11,  2.12166460e+10, -1.60806723e+10,  6.08361102e+07,\n",
       "       -1.11628204e+11,  2.16593266e-01, -5.81452536e+10, -3.22533778e+11,\n",
       "       -3.38280442e+10, -8.83085251e-01, -3.48539948e-02,  3.75657797e-01,\n",
       "       -1.54316131e+11,  2.98932314e-01, -2.90273777e+11, -1.89917326e+00,\n",
       "       -1.64222243e+11, -1.34929248e+10, -1.69192564e+00, -3.96940303e+00,\n",
       "       -1.68375120e+11, -9.97695923e-02, -7.50555038e-01,  4.00283036e+10,\n",
       "        7.72876180e+10, -2.79115677e-01, -7.11269737e+09, -6.34897239e+10,\n",
       "        9.18420907e+09, -6.41070305e+10,  1.76708785e+09, -2.82811948e+00,\n",
       "        4.00283036e+10,  2.35938038e+08,  4.44714694e+09, -2.21359931e+09,\n",
       "        5.56235008e+11,  4.00283036e+10,  1.73767718e+10, -3.78118310e+10,\n",
       "       -5.59201241e-02, -1.73767718e+10,  2.16961808e+11, -2.15195990e+00,\n",
       "        6.84054516e+00,  4.00283036e+10,  1.48113024e+00,  4.25858602e+08,\n",
       "       -5.57518470e+10, -1.34929248e+10, -1.34929248e+10, -1.68324624e+11,\n",
       "        5.62461532e+10,  8.51549941e+10, -3.70573997e-01, -4.42299710e+11,\n",
       "       -1.46663189e-01, -4.42299710e+11, -2.54520537e+11, -2.54674265e+11,\n",
       "        1.76589828e+11,  7.06342070e+09, -7.01031474e+10,  4.71410010e+10,\n",
       "        7.88796626e+09, -1.16484249e+10,  4.51286587e+11,  2.13133145e+11,\n",
       "       -3.19019175e+00,  3.77451845e+11, -7.01031474e+10, -7.01031474e+10,\n",
       "       -7.01031474e+10,  8.63009689e+10, -6.19142294e-01,  1.81604616e+11,\n",
       "       -4.74437681e+11,  3.01370212e+10,  1.06266477e+11,  2.28136384e+11,\n",
       "       -3.30155253e-01,  8.13434872e+10,  7.57247241e+10,  1.06266477e+11,\n",
       "       -4.15916187e+10,  3.04325033e+10,  8.48556083e+10, -1.59412992e+00,\n",
       "       -6.35641098e-01,  4.92810488e-01, -1.56421097e+10,  9.87826067e+00,\n",
       "       -9.06730783e+10,  3.20686911e+10,  2.57427494e+10,  2.57427494e+10,\n",
       "        8.13434872e+10,  2.16109550e+00, -1.34929248e+10, -2.74479365e+00,\n",
       "       -4.98005784e+10, -1.25560951e+00, -4.15916187e+10, -5.01457252e+10,\n",
       "       -2.26901599e+10, -7.28358851e+10, -5.01457252e+10, -2.26901599e+10,\n",
       "       -5.01457252e+10, -5.01457252e+10, -2.85387667e+10, -9.06730783e+10,\n",
       "       -2.03391928e+11, -4.15916187e+10,  1.34929248e+10,  1.34929248e+10,\n",
       "       -2.13638492e+11, -2.13638492e+11, -7.01031474e+10, -4.15916187e+10,\n",
       "       -4.48513746e-01, -1.14548893e+11, -7.40232714e+10, -1.11628204e+11,\n",
       "       -5.18056242e+11, -8.60285927e+11, -2.76107734e+10, -2.25082378e+00,\n",
       "        9.71441507e-01,  1.88150507e+00,  4.79963239e+11, -1.37733554e+11,\n",
       "       -1.37733554e+11, -1.84893608e-04, -1.05239296e+11,  5.67938176e+10,\n",
       "       -9.06730783e+10, -9.06730783e+10,  2.91829930e+09, -4.15916187e+10,\n",
       "       -1.08123482e+03,  1.95532896e+02, -8.12625460e-01, -6.00677138e+10,\n",
       "       -6.00677138e+10, -3.05417525e+10, -2.13638492e+11, -2.94923009e-01,\n",
       "       -1.33716643e+00, -5.71970270e+10,  2.18721395e+11, -1.19831562e+00,\n",
       "       -2.88997423e+10,  1.67189643e+08,  4.40265656e-01, -2.04967439e+00,\n",
       "        4.97777700e-01, -1.36074305e+00,  8.48629937e+10, -5.76642990e-01,\n",
       "       -2.89857686e-01,  3.31192970e-01,  8.00087428e+09, -7.88796626e+09,\n",
       "       -2.53588012e+11, -2.53588012e+11,  1.10803088e+10, -6.38629436e-01,\n",
       "       -1.74627911e+11, -2.44140625e-04,  1.64208412e-01, -2.44140625e-04,\n",
       "       -3.05175781e-05,  7.89184364e+11,  1.62483263e+00,  2.18721394e+11,\n",
       "        3.74661923e+09,  4.63789701e-01, -3.25050472e+09,  1.06338579e+10,\n",
       "        7.70285128e+10, -6.29956290e+10, -1.02559376e+00, -2.91829929e+09,\n",
       "        6.98495345e+08, -2.96373007e+09,  3.31001684e+11,  1.17363192e+11,\n",
       "        6.18656929e+00,  6.98495345e+08, -1.10803088e+10, -1.12571073e+11,\n",
       "        5.24543762e-01,  1.76409685e+11, -1.25834211e+11, -1.25834211e+11,\n",
       "       -3.62769292e+11,  1.30108362e+12, -7.40230008e+10,  1.81477949e+11,\n",
       "        1.71827452e+11,  1.93839502e+10, -7.40230008e+10,  7.95253217e-02,\n",
       "        0.00000000e+00, -7.52481394e+10, -3.51919180e+00, -1.22389140e+11,\n",
       "        4.46867108e+00, -7.85755575e-01,  1.92985147e+00, -1.34077892e+00,\n",
       "       -1.22389140e+11, -7.22434153e+10, -1.22389140e+11, -1.74627911e+11,\n",
       "       -1.33030324e+10,  3.90018632e+11, -1.66216376e+11, -1.37733554e+11,\n",
       "       -1.37733554e+11, -1.37733554e+11, -1.37733554e+11, -1.01556659e-01,\n",
       "        1.20259728e+00,  0.00000000e+00,  0.00000000e+00, -1.60044563e+00,\n",
       "       -2.25639136e+00,  0.00000000e+00, -2.95931220e-01,  0.00000000e+00,\n",
       "        0.00000000e+00,  0.00000000e+00,  9.52154512e+08, -9.52154513e+08,\n",
       "       -7.38549232e-02,  2.92158246e+00, -9.65355727e+09, -7.89474342e+10,\n",
       "       -7.89474342e+10, -7.89474342e+10, -1.70826899e+11, -2.89120154e+10,\n",
       "        1.64662669e+11, -7.24907383e+10,  6.68950925e+10,  1.16279590e+00,\n",
       "       -4.39680522e+11, -1.28947755e+12,  1.16060644e+10, -4.39680522e+11,\n",
       "        7.99192837e+10,  4.05839644e+00,  1.52177975e-01,  1.07631537e+10,\n",
       "        1.85657024e-01, -1.57359655e+00,  6.33482009e-01,  6.57980384e+10,\n",
       "       -9.58508760e-01,  7.64123545e+09,  3.39496613e-01, -3.22353578e+00,\n",
       "        1.19865179e+00,  0.00000000e+00,  5.81452536e+10,  1.49054177e+01,\n",
       "       -9.06730783e+10, -2.03391928e+11, -2.03391928e+11, -9.06730783e+10,\n",
       "       -2.03391928e+11, -9.06730783e+10,  0.00000000e+00, -4.15916187e+10,\n",
       "       -9.06730783e+10, -9.06730783e+10, -4.81691599e-01, -9.06730783e+10,\n",
       "       -9.06730783e+10, -4.15916187e+10,  0.00000000e+00, -2.31808537e+11,\n",
       "        1.35502863e+00,  9.08185005e-01, -5.11711121e-01, -5.81452536e+10,\n",
       "        7.10738063e-01, -2.75363684e-01,  1.91367626e-01, -3.50810862e+00,\n",
       "       -6.29956290e+10,  6.28747940e-01, -5.26247263e-01, -3.20686911e+10,\n",
       "       -4.74900067e-01, -5.43948174e-01, -5.56235008e+11, -1.87330961e+09,\n",
       "       -1.87330961e+09, -8.65125701e-01, -2.22940278e+00, -1.52913470e+11,\n",
       "        7.52229134e+10,  1.52913343e+11, -4.97750301e+10, -4.97750301e+10,\n",
       "        4.80848400e+10,  4.80848400e+10,  4.80848400e+10,  4.80848400e+10,\n",
       "       -9.96619566e+08,  6.10132720e+09,  6.90399659e+10, -9.96619565e+08,\n",
       "       -2.26767507e+10, -2.69116613e-01,  2.31581948e+00,  1.51981943e+10])"
      ]
     },
     "execution_count": 135,
     "metadata": {},
     "output_type": "execute_result"
    }
   ],
   "source": [
    "lr.coef_"
   ]
  },
  {
   "cell_type": "code",
   "execution_count": 136,
   "metadata": {},
   "outputs": [
    {
     "data": {
      "text/plain": [
       "1437595931489.8418"
      ]
     },
     "execution_count": 136,
     "metadata": {},
     "output_type": "execute_result"
    }
   ],
   "source": [
    "lr.intercept_"
   ]
  },
  {
   "cell_type": "code",
   "execution_count": 137,
   "metadata": {},
   "outputs": [
    {
     "data": {
      "text/html": [
       "<div>\n",
       "<style scoped>\n",
       "    .dataframe tbody tr th:only-of-type {\n",
       "        vertical-align: middle;\n",
       "    }\n",
       "\n",
       "    .dataframe tbody tr th {\n",
       "        vertical-align: top;\n",
       "    }\n",
       "\n",
       "    .dataframe thead th {\n",
       "        text-align: right;\n",
       "    }\n",
       "</style>\n",
       "<table border=\"1\" class=\"dataframe\">\n",
       "  <thead>\n",
       "    <tr style=\"text-align: right;\">\n",
       "      <th></th>\n",
       "      <th>Columns</th>\n",
       "      <th>coeficients</th>\n",
       "    </tr>\n",
       "  </thead>\n",
       "  <tbody>\n",
       "    <tr>\n",
       "      <th>0</th>\n",
       "      <td>X0</td>\n",
       "      <td>4.060819e-02</td>\n",
       "    </tr>\n",
       "    <tr>\n",
       "      <th>1</th>\n",
       "      <td>X1</td>\n",
       "      <td>-1.404437e-02</td>\n",
       "    </tr>\n",
       "    <tr>\n",
       "      <th>2</th>\n",
       "      <td>X2</td>\n",
       "      <td>3.724353e-02</td>\n",
       "    </tr>\n",
       "    <tr>\n",
       "      <th>3</th>\n",
       "      <td>X3</td>\n",
       "      <td>5.410732e-02</td>\n",
       "    </tr>\n",
       "    <tr>\n",
       "      <th>4</th>\n",
       "      <td>X4</td>\n",
       "      <td>1.992370e-01</td>\n",
       "    </tr>\n",
       "    <tr>\n",
       "      <th>...</th>\n",
       "      <td>...</td>\n",
       "      <td>...</td>\n",
       "    </tr>\n",
       "    <tr>\n",
       "      <th>371</th>\n",
       "      <td>X380</td>\n",
       "      <td>-9.966196e+08</td>\n",
       "    </tr>\n",
       "    <tr>\n",
       "      <th>372</th>\n",
       "      <td>X382</td>\n",
       "      <td>-2.267675e+10</td>\n",
       "    </tr>\n",
       "    <tr>\n",
       "      <th>373</th>\n",
       "      <td>X383</td>\n",
       "      <td>-2.691166e-01</td>\n",
       "    </tr>\n",
       "    <tr>\n",
       "      <th>374</th>\n",
       "      <td>X384</td>\n",
       "      <td>2.315819e+00</td>\n",
       "    </tr>\n",
       "    <tr>\n",
       "      <th>375</th>\n",
       "      <td>X385</td>\n",
       "      <td>1.519819e+10</td>\n",
       "    </tr>\n",
       "  </tbody>\n",
       "</table>\n",
       "<p>376 rows × 2 columns</p>\n",
       "</div>"
      ],
      "text/plain": [
       "    Columns   coeficients\n",
       "0        X0  4.060819e-02\n",
       "1        X1 -1.404437e-02\n",
       "2        X2  3.724353e-02\n",
       "3        X3  5.410732e-02\n",
       "4        X4  1.992370e-01\n",
       "..      ...           ...\n",
       "371    X380 -9.966196e+08\n",
       "372    X382 -2.267675e+10\n",
       "373    X383 -2.691166e-01\n",
       "374    X384  2.315819e+00\n",
       "375    X385  1.519819e+10\n",
       "\n",
       "[376 rows x 2 columns]"
      ]
     },
     "execution_count": 137,
     "metadata": {},
     "output_type": "execute_result"
    }
   ],
   "source": [
    "column_coef=pd.DataFrame({'Columns':df_train_x.columns , 'coeficients':lr.coef_})\n",
    "column_coef"
   ]
  },
  {
   "cell_type": "code",
   "execution_count": 138,
   "metadata": {},
   "outputs": [
    {
     "data": {
      "text/plain": [
       "0.7108145902069427"
      ]
     },
     "execution_count": 138,
     "metadata": {},
     "output_type": "execute_result"
    }
   ],
   "source": [
    "# R2 Score\n",
    "lr.score(df_train_x,df_train_y)"
   ]
  },
  {
   "cell_type": "markdown",
   "metadata": {},
   "source": [
    "### Error Terms & plots"
   ]
  },
  {
   "cell_type": "code",
   "execution_count": 139,
   "metadata": {},
   "outputs": [],
   "source": [
    "error_train=df_train_y - pred_train\n",
    "error_test=df_test_y - pred_test"
   ]
  },
  {
   "cell_type": "code",
   "execution_count": 140,
   "metadata": {},
   "outputs": [
    {
     "data": {
      "text/plain": [
       "-0.00010965825457091026"
      ]
     },
     "execution_count": 140,
     "metadata": {},
     "output_type": "execute_result"
    }
   ],
   "source": [
    "error_train.mean()"
   ]
  },
  {
   "cell_type": "code",
   "execution_count": 141,
   "metadata": {},
   "outputs": [
    {
     "data": {
      "text/plain": [
       "-175625862.25143155"
      ]
     },
     "execution_count": 141,
     "metadata": {},
     "output_type": "execute_result"
    }
   ],
   "source": [
    "error_test.mean()"
   ]
  },
  {
   "cell_type": "code",
   "execution_count": 142,
   "metadata": {},
   "outputs": [],
   "source": [
    "import seaborn as sns\n",
    "import matplotlib.pyplot as plt"
   ]
  },
  {
   "cell_type": "code",
   "execution_count": 143,
   "metadata": {},
   "outputs": [
    {
     "data": {
      "text/plain": [
       "<matplotlib.axes._subplots.AxesSubplot at 0x1da1eb44700>"
      ]
     },
     "execution_count": 143,
     "metadata": {},
     "output_type": "execute_result"
    },
    {
     "data": {
      "image/png": "[encoded data removed]",
      "text/plain": [
       "<Figure size 432x288 with 1 Axes>"
      ]
     },
     "metadata": {
      "needs_background": "light"
     },
     "output_type": "display_data"
    }
   ],
   "source": [
    "sns.distplot(error_train)"
   ]
  },
  {
   "cell_type": "code",
   "execution_count": 144,
   "metadata": {},
   "outputs": [
    {
     "data": {
      "text/plain": [
       "<matplotlib.axes._subplots.AxesSubplot at 0x1da1e962eb0>"
      ]
     },
     "execution_count": 144,
     "metadata": {},
     "output_type": "execute_result"
    },
    {
     "data": {
      "image/png": "[encoded data removed]",
      "text/plain": [
       "<Figure size 432x288 with 1 Axes>"
      ]
     },
     "metadata": {
      "needs_background": "light"
     },
     "output_type": "display_data"
    }
   ],
   "source": [
    "sns.distplot(error_test)"
   ]
  },
  {
   "cell_type": "code",
   "execution_count": 145,
   "metadata": {},
   "outputs": [
    {
     "data": {
      "text/plain": [
       "Text(0.5, 1.0, 'Scatter plot on error Terms')"
      ]
     },
     "execution_count": 145,
     "metadata": {},
     "output_type": "execute_result"
    },
    {
     "data": {
      "image/png": "[encoded data removed]",
      "text/plain": [
       "<Figure size 432x288 with 1 Axes>"
      ]
     },
     "metadata": {
      "needs_background": "light"
     },
     "output_type": "display_data"
    }
   ],
   "source": [
    "plt.plot(error_train,'+')\n",
    "plt.axhline(y = error_train.mean(), color='r')\n",
    "plt.axhline(y =  100000, color='r')\n",
    "plt.axhline(y = -100000, color='r')\n",
    "plt.title('Scatter plot on error Terms',size=15)"
   ]
  },
  {
   "cell_type": "code",
   "execution_count": 146,
   "metadata": {},
   "outputs": [
    {
     "data": {
      "text/plain": [
       "Text(0.5, 1.0, 'Scatter plot on error Terms')"
      ]
     },
     "execution_count": 146,
     "metadata": {},
     "output_type": "execute_result"
    },
    {
     "data": {
      "image/png": "[encoded data removed]",
      "text/plain": [
       "<Figure size 432x288 with 1 Axes>"
      ]
     },
     "metadata": {
      "needs_background": "light"
     },
     "output_type": "display_data"
    }
   ],
   "source": [
    "plt.plot(error_test,'+')\n",
    "plt.axhline(y = error_test.mean(), color='r')\n",
    "plt.axhline(y =  10, color='r')\n",
    "plt.axhline(y = -10, color='r')\n",
    "plt.title('Scatter plot on error Terms',size=25)"
   ]
  },
  {
   "cell_type": "code",
   "execution_count": 147,
   "metadata": {},
   "outputs": [],
   "source": [
    "pred_actual=pd.DataFrame({ 'Pred': pred_train, 'Actual': df_train_y})"
   ]
  },
  {
   "cell_type": "code",
   "execution_count": 148,
   "metadata": {},
   "outputs": [
    {
     "data": {
      "text/plain": [
       "<matplotlib.axes._subplots.AxesSubplot at 0x1da1f0552e0>"
      ]
     },
     "execution_count": 148,
     "metadata": {},
     "output_type": "execute_result"
    },
    {
     "data": {
      "image/png": "[encoded data removed]",
      "text/plain": [
       "<Figure size 432x288 with 1 Axes>"
      ]
     },
     "metadata": {
      "needs_background": "light"
     },
     "output_type": "display_data"
    }
   ],
   "source": [
    "sns.regplot(pred_actual.Actual,pred_actual.Pred)"
   ]
  },
  {
   "cell_type": "markdown",
   "metadata": {},
   "source": [
    "### Metrics"
   ]
  },
  {
   "cell_type": "markdown",
   "metadata": {},
   "source": [
    "#### MSE"
   ]
  },
  {
   "cell_type": "code",
   "execution_count": 149,
   "metadata": {},
   "outputs": [
    {
     "data": {
      "text/plain": [
       "1.3229382571958324e+20"
      ]
     },
     "execution_count": 149,
     "metadata": {},
     "output_type": "execute_result"
    }
   ],
   "source": [
    "MSE=np.mean(np.square(error_test))\n",
    "MSE"
   ]
  },
  {
   "cell_type": "markdown",
   "metadata": {},
   "source": [
    "#### RMSE"
   ]
  },
  {
   "cell_type": "code",
   "execution_count": 150,
   "metadata": {},
   "outputs": [
    {
     "data": {
      "text/plain": [
       "11501905308.234077"
      ]
     },
     "execution_count": 150,
     "metadata": {},
     "output_type": "execute_result"
    }
   ],
   "source": [
    "RMSE=np.sqrt(MSE)\n",
    "RMSE"
   ]
  },
  {
   "cell_type": "markdown",
   "metadata": {},
   "source": [
    "#### MAE"
   ]
  },
  {
   "cell_type": "code",
   "execution_count": 151,
   "metadata": {},
   "outputs": [
    {
     "data": {
      "text/plain": [
       "918568559.1708642"
      ]
     },
     "execution_count": 151,
     "metadata": {},
     "output_type": "execute_result"
    }
   ],
   "source": [
    "MAE=np.mean(np.abs(error_test))\n",
    "MAE"
   ]
  },
  {
   "cell_type": "markdown",
   "metadata": {},
   "source": [
    "#### MAPE"
   ]
  },
  {
   "cell_type": "code",
   "execution_count": 152,
   "metadata": {},
   "outputs": [
    {
     "data": {
      "text/plain": [
       "1015627758.0"
      ]
     },
     "execution_count": 152,
     "metadata": {},
     "output_type": "execute_result"
    }
   ],
   "source": [
    "MAPE=np.round(np.mean(np.abs(error_test *100/ df_test_y)))\n",
    "MAPE"
   ]
  },
  {
   "cell_type": "code",
   "execution_count": null,
   "metadata": {},
   "outputs": [],
   "source": []
  },
  {
   "cell_type": "markdown",
   "metadata": {},
   "source": [
    "### Lets remove the outliers"
   ]
  },
  {
   "cell_type": "code",
   "execution_count": 124,
   "metadata": {},
   "outputs": [],
   "source": [
    "def remove_outliers(df, col, k=2):\n",
    "    mean= df[col].mean()\n",
    "    global df1\n",
    "    sd=df[col].std()\n",
    "    final_list=[x for x in df[col] if (x > mean-k*sd)]\n",
    "    final_list=[x for x in final_list if (x < mean + k*sd)]\n",
    "    df1=df.loc[df[col].isin(final_list)]; print(df1.shape)\n",
    "    print(\"Number of outliers removed-->\", df.shape[0]-df1.shape[0])"
   ]
  },
  {
   "cell_type": "code",
   "execution_count": 125,
   "metadata": {},
   "outputs": [
    {
     "name": "stdout",
     "output_type": "stream",
     "text": [
      "(4034, 377)\n",
      "Number of outliers removed--> 175\n"
     ]
    }
   ],
   "source": [
    "remove_outliers(df,'y',k=2)"
   ]
  },
  {
   "cell_type": "code",
   "execution_count": 126,
   "metadata": {},
   "outputs": [],
   "source": [
    "df=df1"
   ]
  },
  {
   "cell_type": "markdown",
   "metadata": {},
   "source": [
    "## LASSO regression"
   ]
  },
  {
   "cell_type": "code",
   "execution_count": 153,
   "metadata": {},
   "outputs": [],
   "source": [
    "from sklearn.linear_model import Lasso"
   ]
  },
  {
   "cell_type": "code",
   "execution_count": 154,
   "metadata": {},
   "outputs": [],
   "source": [
    "la=Lasso()"
   ]
  },
  {
   "cell_type": "code",
   "execution_count": 155,
   "metadata": {},
   "outputs": [
    {
     "data": {
      "text/plain": [
       "Lasso()"
      ]
     },
     "execution_count": 155,
     "metadata": {},
     "output_type": "execute_result"
    }
   ],
   "source": [
    "la.fit(df_train_x,df_train_y)"
   ]
  },
  {
   "cell_type": "code",
   "execution_count": 156,
   "metadata": {},
   "outputs": [],
   "source": [
    "pred_la_train=la.predict(df_train_x)"
   ]
  },
  {
   "cell_type": "code",
   "execution_count": 157,
   "metadata": {},
   "outputs": [],
   "source": [
    "pred_la_test=la.predict(df_test_x)"
   ]
  },
  {
   "cell_type": "code",
   "execution_count": 158,
   "metadata": {},
   "outputs": [
    {
     "data": {
      "text/plain": [
       "0.48266252186113334"
      ]
     },
     "execution_count": 158,
     "metadata": {},
     "output_type": "execute_result"
    }
   ],
   "source": [
    "la.score(df_train_x,df_train_y)"
   ]
  },
  {
   "cell_type": "code",
   "execution_count": 159,
   "metadata": {},
   "outputs": [],
   "source": [
    "error_test_la=df_test_y - pred_la_test"
   ]
  },
  {
   "cell_type": "code",
   "execution_count": 171,
   "metadata": {},
   "outputs": [
    {
     "data": {
      "text/plain": [
       "57.64355360794356"
      ]
     },
     "execution_count": 171,
     "metadata": {},
     "output_type": "execute_result"
    }
   ],
   "source": [
    "MSE_la=np.mean(np.square(error_test_la))\n",
    "MSE_la"
   ]
  },
  {
   "cell_type": "code",
   "execution_count": 172,
   "metadata": {},
   "outputs": [
    {
     "data": {
      "text/plain": [
       "7.592335188065893"
      ]
     },
     "execution_count": 172,
     "metadata": {},
     "output_type": "execute_result"
    }
   ],
   "source": [
    "RMSE_la=np.sqrt(MSE_la)\n",
    "RMSE_la"
   ]
  },
  {
   "cell_type": "code",
   "execution_count": 173,
   "metadata": {},
   "outputs": [
    {
     "data": {
      "text/plain": [
       "6.0"
      ]
     },
     "execution_count": 173,
     "metadata": {},
     "output_type": "execute_result"
    }
   ],
   "source": [
    "MAPE_la=np.round(np.mean(np.abs(error_test_la *100/ df_test_y)))\n",
    "MAPE_la"
   ]
  },
  {
   "cell_type": "code",
   "execution_count": 170,
   "metadata": {},
   "outputs": [
    {
     "data": {
      "text/plain": [
       "94.0"
      ]
     },
     "execution_count": 170,
     "metadata": {},
     "output_type": "execute_result"
    }
   ],
   "source": [
    "acc=100-MAPE_la\n",
    "acc"
   ]
  },
  {
   "cell_type": "markdown",
   "metadata": {},
   "source": [
    "# With CV in Ridge & Lasso"
   ]
  },
  {
   "cell_type": "code",
   "execution_count": 165,
   "metadata": {},
   "outputs": [],
   "source": [
    "from sklearn.model_selection import GridSearchCV\n",
    "from sklearn.linear_model import Lasso\n",
    "from sklearn.model_selection import cross_val_score"
   ]
  },
  {
   "cell_type": "code",
   "execution_count": 166,
   "metadata": {},
   "outputs": [],
   "source": [
    "aa= np.arange(0,25,  .01) ## aa -> Lambda(values from 0 to 25 with the spaces of 0.01)\n",
    "parameters= {'alpha':aa}"
   ]
  },
  {
   "cell_type": "code",
   "execution_count": 168,
   "metadata": {},
   "outputs": [],
   "source": [
    "lasso=Lasso()"
   ]
  },
  {
   "cell_type": "code",
   "execution_count": 169,
   "metadata": {},
   "outputs": [
    {
     "name": "stderr",
     "output_type": "stream",
     "text": [
      "C:\\Users\\_RoXstaR_\\anaconda3\\lib\\site-packages\\sklearn\\model_selection\\_validation.py:531: UserWarning: With alpha=0, this algorithm does not converge well. You are advised to use the LinearRegression estimator\n",
      "  estimator.fit(X_train, y_train, **fit_params)\n",
      "C:\\Users\\_RoXstaR_\\anaconda3\\lib\\site-packages\\sklearn\\linear_model\\_coordinate_descent.py:529: UserWarning: Coordinate descent with no regularization may lead to unexpected results and is discouraged.\n",
      "  model = cd_fast.enet_coordinate_descent(\n",
      "C:\\Users\\_RoXstaR_\\anaconda3\\lib\\site-packages\\sklearn\\linear_model\\_coordinate_descent.py:529: ConvergenceWarning: Objective did not converge. You might want to increase the number of iterations. Duality gap: 40447.3298102315, tolerance: 28.416863195931807\n",
      "  model = cd_fast.enet_coordinate_descent(\n",
      "C:\\Users\\_RoXstaR_\\anaconda3\\lib\\site-packages\\sklearn\\model_selection\\_validation.py:531: UserWarning: With alpha=0, this algorithm does not converge well. You are advised to use the LinearRegression estimator\n",
      "  estimator.fit(X_train, y_train, **fit_params)\n",
      "C:\\Users\\_RoXstaR_\\anaconda3\\lib\\site-packages\\sklearn\\linear_model\\_coordinate_descent.py:529: UserWarning: Coordinate descent with no regularization may lead to unexpected results and is discouraged.\n",
      "  model = cd_fast.enet_coordinate_descent(\n",
      "C:\\Users\\_RoXstaR_\\anaconda3\\lib\\site-packages\\sklearn\\linear_model\\_coordinate_descent.py:529: ConvergenceWarning: Objective did not converge. You might want to increase the number of iterations. Duality gap: 41175.568772015344, tolerance: 28.76491623042232\n",
      "  model = cd_fast.enet_coordinate_descent(\n",
      "C:\\Users\\_RoXstaR_\\anaconda3\\lib\\site-packages\\sklearn\\model_selection\\_validation.py:531: UserWarning: With alpha=0, this algorithm does not converge well. You are advised to use the LinearRegression estimator\n",
      "  estimator.fit(X_train, y_train, **fit_params)\n",
      "C:\\Users\\_RoXstaR_\\anaconda3\\lib\\site-packages\\sklearn\\linear_model\\_coordinate_descent.py:529: UserWarning: Coordinate descent with no regularization may lead to unexpected results and is discouraged.\n",
      "  model = cd_fast.enet_coordinate_descent(\n",
      "C:\\Users\\_RoXstaR_\\anaconda3\\lib\\site-packages\\sklearn\\linear_model\\_coordinate_descent.py:529: ConvergenceWarning: Objective did not converge. You might want to increase the number of iterations. Duality gap: 40255.45777990253, tolerance: 28.697870323206825\n",
      "  model = cd_fast.enet_coordinate_descent(\n",
      "C:\\Users\\_RoXstaR_\\anaconda3\\lib\\site-packages\\sklearn\\model_selection\\_validation.py:531: UserWarning: With alpha=0, this algorithm does not converge well. You are advised to use the LinearRegression estimator\n",
      "  estimator.fit(X_train, y_train, **fit_params)\n",
      "C:\\Users\\_RoXstaR_\\anaconda3\\lib\\site-packages\\sklearn\\linear_model\\_coordinate_descent.py:529: UserWarning: Coordinate descent with no regularization may lead to unexpected results and is discouraged.\n",
      "  model = cd_fast.enet_coordinate_descent(\n",
      "C:\\Users\\_RoXstaR_\\anaconda3\\lib\\site-packages\\sklearn\\linear_model\\_coordinate_descent.py:529: ConvergenceWarning: Objective did not converge. You might want to increase the number of iterations. Duality gap: 39711.18673744246, tolerance: 28.514026728365607\n",
      "  model = cd_fast.enet_coordinate_descent(\n",
      "C:\\Users\\_RoXstaR_\\anaconda3\\lib\\site-packages\\sklearn\\model_selection\\_validation.py:531: UserWarning: With alpha=0, this algorithm does not converge well. You are advised to use the LinearRegression estimator\n",
      "  estimator.fit(X_train, y_train, **fit_params)\n",
      "C:\\Users\\_RoXstaR_\\anaconda3\\lib\\site-packages\\sklearn\\linear_model\\_coordinate_descent.py:529: UserWarning: Coordinate descent with no regularization may lead to unexpected results and is discouraged.\n",
      "  model = cd_fast.enet_coordinate_descent(\n",
      "C:\\Users\\_RoXstaR_\\anaconda3\\lib\\site-packages\\sklearn\\linear_model\\_coordinate_descent.py:529: ConvergenceWarning: Objective did not converge. You might want to increase the number of iterations. Duality gap: 41376.22371631782, tolerance: 28.521175370782334\n",
      "  model = cd_fast.enet_coordinate_descent(\n",
      "C:\\Users\\_RoXstaR_\\anaconda3\\lib\\site-packages\\sklearn\\linear_model\\_coordinate_descent.py:529: ConvergenceWarning: Objective did not converge. You might want to increase the number of iterations. Duality gap: 129.04408275111928, tolerance: 28.416863195931807\n",
      "  model = cd_fast.enet_coordinate_descent(\n",
      "C:\\Users\\_RoXstaR_\\anaconda3\\lib\\site-packages\\sklearn\\linear_model\\_coordinate_descent.py:529: ConvergenceWarning: Objective did not converge. You might want to increase the number of iterations. Duality gap: 78.62252296967199, tolerance: 28.76491623042232\n",
      "  model = cd_fast.enet_coordinate_descent(\n",
      "C:\\Users\\_RoXstaR_\\anaconda3\\lib\\site-packages\\sklearn\\linear_model\\_coordinate_descent.py:529: ConvergenceWarning: Objective did not converge. You might want to increase the number of iterations. Duality gap: 61.28392547243857, tolerance: 28.697870323206825\n",
      "  model = cd_fast.enet_coordinate_descent(\n",
      "C:\\Users\\_RoXstaR_\\anaconda3\\lib\\site-packages\\sklearn\\linear_model\\_coordinate_descent.py:529: ConvergenceWarning: Objective did not converge. You might want to increase the number of iterations. Duality gap: 101.60754443069163, tolerance: 28.514026728365607\n",
      "  model = cd_fast.enet_coordinate_descent(\n"
     ]
    },
    {
     "data": {
      "text/plain": [
       "GridSearchCV(estimator=Lasso(),\n",
       "             param_grid={'alpha': array([0.000e+00, 1.000e-02, 2.000e-02, ..., 2.497e+01, 2.498e+01,\n",
       "       2.499e+01])})"
      ]
     },
     "execution_count": 169,
     "metadata": {},
     "output_type": "execute_result"
    }
   ],
   "source": [
    "lasso_regressor=GridSearchCV(lasso, param_grid=parameters)\n",
    "lasso_regressor.fit(df_train_x,df_train_y)"
   ]
  },
  {
   "cell_type": "code",
   "execution_count": 174,
   "metadata": {},
   "outputs": [
    {
     "data": {
      "text/plain": [
       "Lasso(alpha=0.02)"
      ]
     },
     "execution_count": 174,
     "metadata": {},
     "output_type": "execute_result"
    }
   ],
   "source": [
    "lasso_regressor.best_estimator_"
   ]
  },
  {
   "cell_type": "code",
   "execution_count": 175,
   "metadata": {},
   "outputs": [],
   "source": [
    "lasso1=Lasso(alpha=0.02)"
   ]
  },
  {
   "cell_type": "code",
   "execution_count": 176,
   "metadata": {},
   "outputs": [
    {
     "data": {
      "text/plain": [
       "Lasso(alpha=0.02)"
      ]
     },
     "execution_count": 176,
     "metadata": {},
     "output_type": "execute_result"
    }
   ],
   "source": [
    "lasso1.fit(df_train_x,df_train_y)"
   ]
  },
  {
   "cell_type": "code",
   "execution_count": 179,
   "metadata": {},
   "outputs": [
    {
     "data": {
      "text/plain": [
       "0.6928594869811495"
      ]
     },
     "execution_count": 179,
     "metadata": {},
     "output_type": "execute_result"
    }
   ],
   "source": [
    "lasso1.score(df_train_x,df_train_y)"
   ]
  },
  {
   "cell_type": "code",
   "execution_count": 180,
   "metadata": {},
   "outputs": [],
   "source": [
    "lasso1_pred=lasso1.predict(df_test_x)"
   ]
  },
  {
   "cell_type": "code",
   "execution_count": 182,
   "metadata": {},
   "outputs": [],
   "source": [
    "error_test_lasso1=df_test_y - lasso1_pred"
   ]
  },
  {
   "cell_type": "code",
   "execution_count": 183,
   "metadata": {},
   "outputs": [
    {
     "data": {
      "text/plain": [
       "40.73479061206954"
      ]
     },
     "execution_count": 183,
     "metadata": {},
     "output_type": "execute_result"
    }
   ],
   "source": [
    "MSE_lasso1=np.mean(np.square(error_test_lasso1))\n",
    "MSE_lasso1"
   ]
  },
  {
   "cell_type": "code",
   "execution_count": 184,
   "metadata": {},
   "outputs": [
    {
     "data": {
      "text/plain": [
       "6.382381265019314"
      ]
     },
     "execution_count": 184,
     "metadata": {},
     "output_type": "execute_result"
    }
   ],
   "source": [
    "RMSE_lasso1=np.sqrt(MSE_lasso1)\n",
    "RMSE_lasso1"
   ]
  },
  {
   "cell_type": "code",
   "execution_count": 185,
   "metadata": {},
   "outputs": [
    {
     "data": {
      "text/plain": [
       "5.0"
      ]
     },
     "execution_count": 185,
     "metadata": {},
     "output_type": "execute_result"
    }
   ],
   "source": [
    "MAPE_lasso1=np.round(np.mean(np.abs(error_test_lasso1 *100/ df_test_y)))\n",
    "MAPE_lasso1"
   ]
  },
  {
   "cell_type": "code",
   "execution_count": 186,
   "metadata": {},
   "outputs": [
    {
     "data": {
      "text/plain": [
       "95.0"
      ]
     },
     "execution_count": 186,
     "metadata": {},
     "output_type": "execute_result"
    }
   ],
   "source": [
    "acc=100-MAPE_lasso1\n",
    "acc"
   ]
  },
  {
   "cell_type": "markdown",
   "metadata": {},
   "source": [
    "## Linear SGDRegressor.... gredient Decient"
   ]
  },
  {
   "cell_type": "code",
   "execution_count": 214,
   "metadata": {},
   "outputs": [],
   "source": [
    "from sklearn.linear_model import SGDRegressor"
   ]
  },
  {
   "cell_type": "code",
   "execution_count": 215,
   "metadata": {},
   "outputs": [],
   "source": [
    "lin_model=SGDRegressor()"
   ]
  },
  {
   "cell_type": "code",
   "execution_count": 216,
   "metadata": {},
   "outputs": [],
   "source": [
    "from sklearn import preprocessing # using preprocessing to make data unitless , mean=0,sd=1,we are scaling the data"
   ]
  },
  {
   "cell_type": "code",
   "execution_count": 217,
   "metadata": {},
   "outputs": [],
   "source": [
    "df_train_x = preprocessing.scale(df_train_x) #@ scaling of X is mandatory\n",
    "#df_train_y = preprocessing.scale(df_train_y) # don't scale Y"
   ]
  },
  {
   "cell_type": "code",
   "execution_count": 218,
   "metadata": {},
   "outputs": [
    {
     "data": {
      "text/plain": [
       "SGDRegressor()"
      ]
     },
     "execution_count": 218,
     "metadata": {},
     "output_type": "execute_result"
    }
   ],
   "source": [
    "lin_model.fit(df_train_x,df_train_y)"
   ]
  },
  {
   "cell_type": "code",
   "execution_count": 219,
   "metadata": {},
   "outputs": [],
   "source": [
    "pred_sgd=lin_model.predict(df_test_x)"
   ]
  },
  {
   "cell_type": "code",
   "execution_count": 220,
   "metadata": {},
   "outputs": [
    {
     "data": {
      "text/plain": [
       "array([-2.88102903e+08,  6.78560237e+08,  3.87788763e+08,  5.22386179e+08,\n",
       "       -8.99835670e+07,  9.48164637e+07,  1.75519915e+09,  1.51087227e+08,\n",
       "       -1.26981823e+08,  0.00000000e+00,  3.80467497e+08,  3.92494766e+08,\n",
       "       -4.59781384e+08, -1.43563663e+08, -4.18198275e+08, -4.00645875e+08,\n",
       "        1.09082083e+09, -1.76751556e+08,  5.20864357e+08,  2.45292438e+09,\n",
       "       -2.68928138e+08,  4.00686274e+08,  2.43552746e+09,  5.76012478e+08,\n",
       "        4.11158048e+08,  1.03209498e+08, -7.64957676e+07, -6.92135659e+08,\n",
       "        3.56573055e+08, -5.61047003e+08,  0.00000000e+00,  5.14941929e+08,\n",
       "        3.56573055e+08,  5.35343230e+08,  3.56573055e+08, -1.34628704e+08,\n",
       "        0.00000000e+00,  2.16563703e+08, -1.07841200e+09,  1.94781175e+08,\n",
       "        5.61636139e+08, -4.84464137e+08, -2.09554003e+08, -1.02008532e+09,\n",
       "       -8.35933815e+07,  3.42331810e+08,  2.55746090e+08, -9.22904303e+08,\n",
       "        1.52568777e+08,  1.51991650e+08, -3.92184422e+08, -7.64957676e+07,\n",
       "       -1.96173082e+09, -9.44184485e+07,  3.75405559e+08,  4.39002595e+08,\n",
       "        9.16207944e+07, -4.26763148e+09, -1.08286279e+09, -1.22268262e+08,\n",
       "        2.54469686e+09, -4.85448330e+08,  2.70450877e+08,  5.15809342e+08,\n",
       "        1.64259502e+08,  1.24737355e+09, -3.71832913e+08,  1.23873458e+08,\n",
       "       -4.72733743e+08,  4.46430919e+06, -5.51344388e+08,  4.64996072e+08,\n",
       "       -7.64957676e+07,  1.85238432e+08,  1.44801809e+09,  1.89096546e+08,\n",
       "       -4.68601721e+08, -3.70771056e+08, -8.50143788e+08, -1.29819802e+07,\n",
       "       -4.72733743e+08,  1.36549910e+08, -8.97786806e+07,  1.24160783e+10,\n",
       "        1.32357268e+09,  1.24160783e+10,  1.76681375e+08,  2.05078397e+10,\n",
       "       -3.21068018e+08,  0.00000000e+00,  1.76681375e+08,  0.00000000e+00,\n",
       "       -3.20330515e+08,  2.66274610e+07, -5.65610526e+08, -7.68306955e+08,\n",
       "        4.20593856e+08, -3.96871593e+08, -3.92184422e+08, -8.01003538e+08,\n",
       "        3.35922197e+08, -1.57353425e+08,  5.47321922e+09,  0.00000000e+00,\n",
       "       -7.17822332e+08,  2.62590811e+08, -6.54238039e+08, -4.91178255e+08,\n",
       "        5.00472293e+08,  3.42331810e+08, -1.74679879e+08, -4.43816868e+08,\n",
       "        3.64809746e+08,  1.09579346e+09, -3.45353003e+07, -3.45353003e+07,\n",
       "       -1.51991650e+08,  1.32357268e+09, -1.19473081e+08, -9.37496187e+08,\n",
       "       -1.13644415e+09, -4.92343229e+08, -6.78755534e+08,  1.66445505e+08,\n",
       "        2.39434320e+08, -1.66445505e+08,  1.13580737e+09, -4.00408810e+08,\n",
       "        1.41203498e+07,  3.42331810e+08,  9.01457621e+08,  7.64957676e+07,\n",
       "        3.71611321e+08, -4.23949993e+08, -3.32091843e+09, -2.48516000e+08,\n",
       "       -3.21493942e+08,  2.00535993e+09,  4.93005845e+09,  2.05576038e+07,\n",
       "       -8.10293611e+07, -4.23949993e+08,  3.42331810e+08, -4.43907198e+08,\n",
       "        3.99520951e+08,  5.05325253e+07, -6.97318962e+08,  8.91412919e+08,\n",
       "       -1.81019181e+09,  3.66218311e+08,  3.59025762e+08, -3.59025762e+08,\n",
       "       -2.00535993e+09, -1.36322386e+09, -1.26290400e+08, -1.01158166e+08,\n",
       "       -1.61329174e+08, -5.39123554e+08, -1.33028540e+08,  1.31124481e+08,\n",
       "        2.32784031e+08, -2.76308651e+09, -5.67312374e+08,  2.44019217e+08,\n",
       "        1.31527289e+09,  3.16673327e+08, -1.22268262e+08, -1.66477437e+09,\n",
       "       -8.33034612e+09, -2.85051592e+07,  2.79754650e+08, -4.81535702e+08,\n",
       "        5.27621977e+08,  4.60400951e+08,  1.91597633e+07,  2.43573900e+08,\n",
       "        4.33060143e+08, -1.27640103e+09,  6.81087765e+09,  2.98947946e+08,\n",
       "       -2.02070440e+08,  2.32370612e+08,  1.77915220e+08,  1.19362055e+07,\n",
       "       -1.29773644e+08, -5.67982048e+08,  2.02070440e+08, -4.18150824e+09,\n",
       "       -1.59452587e+08, -7.75884331e+08,  3.50838094e+08,  5.00472293e+08,\n",
       "       -3.33790903e+08, -5.81119124e+08, -6.25703896e+05,  3.05188311e+08,\n",
       "        0.00000000e+00,  0.00000000e+00,  9.28594433e+06,  2.62626596e+08,\n",
       "       -1.59268344e+08, -3.03708142e+09, -2.18725527e+08, -1.90603334e+08,\n",
       "        3.04741818e+07,  1.64259502e+08, -3.92184422e+08, -1.55856879e+08,\n",
       "       -1.22268262e+08,  1.32357268e+09, -1.34234185e+09,  3.98736837e+08,\n",
       "       -1.07662429e+07, -5.41839694e+07,  3.42331810e+08,  1.63679145e+08,\n",
       "       -1.41227814e+08,  4.20933224e+08, -6.97318962e+08, -1.13644415e+09,\n",
       "       -2.95804510e+08, -1.63190894e+09, -7.90481287e+07, -1.78471129e+09,\n",
       "       -7.64957676e+07,  0.00000000e+00,  1.45845421e+08,  0.00000000e+00,\n",
       "        0.00000000e+00,  2.15167494e+09, -5.52999752e+08, -3.92184422e+08,\n",
       "        3.42183836e+08, -2.86143067e+08,  1.76681375e+08,  1.32357268e+09,\n",
       "       -4.72733743e+08,  1.24160783e+10, -8.89785835e+07, -6.25703896e+05,\n",
       "       -4.26763148e+09,  1.76681375e+08,  5.06757889e+08, -7.28785645e+08,\n",
       "        8.75175426e+08, -4.26763148e+09, -7.90481287e+07, -3.68494629e+08,\n",
       "       -7.58450508e+08, -1.88581940e+09,  1.90452543e+08,  4.57579314e+07,\n",
       "       -4.78219744e+07,  5.08132772e+08,  6.81087765e+09,  7.64957676e+07,\n",
       "       -4.14670100e+08, -7.25837441e+08,  6.81087765e+09, -4.54020612e+08,\n",
       "        0.00000000e+00,  8.10549639e+08,  9.05182668e+06,  1.36883171e+09,\n",
       "       -6.10748850e+08, -4.59510296e+08, -3.90932022e+08, -2.63238786e+08,\n",
       "       -5.03222983e+08,  2.29472664e+08, -7.89472761e+08, -7.64957676e+07,\n",
       "       -1.49707224e+09,  2.55001170e+08, -3.39728660e+08,  2.02741701e+09,\n",
       "        1.78705217e+08, -1.77616478e+07, -8.56761205e+08,  3.14046640e+08,\n",
       "        1.73614062e+09,  0.00000000e+00,  0.00000000e+00,  1.10828814e+09,\n",
       "       -7.83585789e+09,  0.00000000e+00, -5.87203000e+07,  0.00000000e+00,\n",
       "        0.00000000e+00,  0.00000000e+00,  1.43268649e+08,  1.43268649e+08,\n",
       "        2.72852738e+08,  7.51059835e+07, -4.84464137e+08, -4.65361643e+08,\n",
       "        5.49284796e+08,  8.15448844e+08, -3.27891932e+08, -2.32783023e+08,\n",
       "       -8.87656800e+08,  2.94267872e+08, -6.27282542e+08, -1.17994115e+09,\n",
       "       -1.29173341e+09,  3.11456920e+08, -2.51796546e+08,  1.22319642e+09,\n",
       "       -2.00370389e+08, -5.85701316e+08,  8.09535168e+07,  1.32357268e+09,\n",
       "        2.91668631e+08,  1.77209375e+09,  7.64656425e+06,  4.39002595e+08,\n",
       "        5.77491534e+08, -6.97318962e+08,  1.07206711e+09, -9.18516612e+08,\n",
       "       -2.26027785e+08,  0.00000000e+00, -2.40922713e+08,  8.67430664e+08,\n",
       "        5.46903112e+08,  1.93230966e+08,  2.03672289e+08,  5.80602935e+08,\n",
       "        1.86028531e+09, -3.96635144e+08,  0.00000000e+00,  2.38759287e+08,\n",
       "        6.04240954e+09, -2.73949976e+08, -5.18689118e+08,  1.68700513e+09,\n",
       "       -2.30799481e+08, -2.05758534e+08,  0.00000000e+00, -4.87436930e+08,\n",
       "       -2.91193946e+08, -1.66156209e+08, -2.03635106e+08, -2.96222631e+08,\n",
       "       -4.58656121e+08, -1.68071409e+09,  4.76904249e+08, -2.02621686e+08,\n",
       "        1.24160783e+10, -1.24013443e+07, -1.41180462e+09,  3.66218311e+08,\n",
       "       -6.70135893e+08, -1.48246635e+08, -2.07214430e+08,  3.42183836e+08,\n",
       "        3.42183836e+08, -6.27696659e+08, -2.70403667e+08,  3.94616566e+06,\n",
       "       -2.01960306e+09, -8.73259147e+07, -6.42122091e+08, -3.94996703e+08,\n",
       "        5.17852307e+08, -1.31138794e+09,  2.46051851e+08,  8.95082566e+07,\n",
       "        1.67770112e+08,  6.86131375e+08,  2.14475582e+09, -2.02703771e+08,\n",
       "       -4.00645875e+08,  2.88873714e+08,  4.68567275e+09, -4.26763148e+09])"
      ]
     },
     "execution_count": 220,
     "metadata": {},
     "output_type": "execute_result"
    }
   ],
   "source": [
    "lin_model.coef_"
   ]
  },
  {
   "cell_type": "code",
   "execution_count": 221,
   "metadata": {},
   "outputs": [
    {
     "data": {
      "text/plain": [
       "array([1.04968647e+09])"
      ]
     },
     "execution_count": 221,
     "metadata": {},
     "output_type": "execute_result"
    }
   ],
   "source": [
    "lin_model.intercept_"
   ]
  },
  {
   "cell_type": "code",
   "execution_count": 224,
   "metadata": {},
   "outputs": [
    {
     "data": {
      "text/plain": [
       "-4.892696072832087e+21"
      ]
     },
     "execution_count": 224,
     "metadata": {},
     "output_type": "execute_result"
    }
   ],
   "source": [
    "lin_model.score(df_train_x,   df_train_y) # R2 score is negative coz of the Nature of the data,"
   ]
  },
  {
   "cell_type": "code",
   "execution_count": null,
   "metadata": {},
   "outputs": [],
   "source": []
  },
  {
   "cell_type": "code",
   "execution_count": null,
   "metadata": {},
   "outputs": [],
   "source": []
  }
 ],
 "metadata": {
  "kernelspec": {
   "display_name": "Python 3 (ipykernel)",
   "language": "python",
   "name": "python3"
  },
  "language_info": {
   "codemirror_mode": {
    "name": "ipython",
    "version": 3
   },
   "file_extension": ".py",
   "mimetype": "text/x-python",
   "name": "python",
   "nbconvert_exporter": "python",
   "pygments_lexer": "ipython3",
   "version": "3.9.7"
  }
 },
 "nbformat": 4,
 "nbformat_minor": 4
}
