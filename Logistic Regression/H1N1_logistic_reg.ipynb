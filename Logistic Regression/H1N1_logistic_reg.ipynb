{
 "cells": [
  {
   "cell_type": "markdown",
   "metadata": {},
   "source": [
    "# H1N1 Vaccine Prediction using Logistic Regression"
   ]
  },
  {
   "cell_type": "markdown",
   "metadata": {},
   "source": [
    "# Author- Rohan Kulkarni"
   ]
  },
  {
   "cell_type": "code",
   "execution_count": 1,
   "metadata": {},
   "outputs": [],
   "source": [
    "import pandas as pd\n",
    "import numpy as np\n",
    "import seaborn as sns"
   ]
  },
  {
   "cell_type": "code",
   "execution_count": 2,
   "metadata": {},
   "outputs": [],
   "source": [
    "h1n1=pd.read_csv('C:/Users/_RoXstaR_/OneDrive/Desktop/h1n1_vaccine_prediction.csv')"
   ]
  },
  {
   "cell_type": "code",
   "execution_count": 3,
   "metadata": {},
   "outputs": [
    {
     "data": {
      "text/plain": [
       "Index(['has_health_insur'], dtype='object')"
      ]
     },
     "execution_count": 3,
     "metadata": {},
     "output_type": "execute_result"
    }
   ],
   "source": [
    "h1n1.columns[h1n1.isnull().sum()*100 /h1n1.shape[0]>40]"
   ]
  },
  {
   "cell_type": "code",
   "execution_count": 4,
   "metadata": {},
   "outputs": [],
   "source": [
    "h1n1.drop(['has_health_insur'],axis=1,inplace=True)"
   ]
  },
  {
   "cell_type": "code",
   "execution_count": 5,
   "metadata": {},
   "outputs": [],
   "source": [
    "h1n1.drop(['unique_id'],axis=1,inplace=True)"
   ]
  },
  {
   "cell_type": "code",
   "execution_count": 1,
   "metadata": {},
   "outputs": [],
   "source": []
  },
  {
   "cell_type": "code",
   "execution_count": 6,
   "metadata": {},
   "outputs": [
    {
     "name": "stdout",
     "output_type": "stream",
     "text": [
      "<class 'pandas.core.frame.DataFrame'>\n",
      "RangeIndex: 26707 entries, 0 to 26706\n",
      "Data columns (total 32 columns):\n",
      " #   Column                     Non-Null Count  Dtype  \n",
      "---  ------                     --------------  -----  \n",
      " 0   h1n1_worry                 26615 non-null  float64\n",
      " 1   h1n1_awareness             26591 non-null  float64\n",
      " 2   antiviral_medication       26636 non-null  float64\n",
      " 3   contact_avoidance          26499 non-null  float64\n",
      " 4   bought_face_mask           26688 non-null  float64\n",
      " 5   wash_hands_frequently      26665 non-null  float64\n",
      " 6   avoid_large_gatherings     26620 non-null  float64\n",
      " 7   reduced_outside_home_cont  26625 non-null  float64\n",
      " 8   avoid_touch_face           26579 non-null  float64\n",
      " 9   dr_recc_h1n1_vacc          24547 non-null  float64\n",
      " 10  dr_recc_seasonal_vacc      24547 non-null  float64\n",
      " 11  chronic_medic_condition    25736 non-null  float64\n",
      " 12  cont_child_undr_6_mnths    25887 non-null  float64\n",
      " 13  is_health_worker           25903 non-null  float64\n",
      " 14  is_h1n1_vacc_effective     26316 non-null  float64\n",
      " 15  is_h1n1_risky              26319 non-null  float64\n",
      " 16  sick_from_h1n1_vacc        26312 non-null  float64\n",
      " 17  is_seas_vacc_effective     26245 non-null  float64\n",
      " 18  is_seas_risky              26193 non-null  float64\n",
      " 19  sick_from_seas_vacc        26170 non-null  float64\n",
      " 20  age_bracket                26707 non-null  object \n",
      " 21  qualification              25300 non-null  object \n",
      " 22  race                       26707 non-null  object \n",
      " 23  sex                        26707 non-null  object \n",
      " 24  income_level               22284 non-null  object \n",
      " 25  marital_status             25299 non-null  object \n",
      " 26  housing_status             24665 non-null  object \n",
      " 27  employment                 25244 non-null  object \n",
      " 28  census_msa                 26707 non-null  object \n",
      " 29  no_of_adults               26458 non-null  float64\n",
      " 30  no_of_children             26458 non-null  float64\n",
      " 31  h1n1_vaccine               26707 non-null  int64  \n",
      "dtypes: float64(22), int64(1), object(9)\n",
      "memory usage: 6.5+ MB\n"
     ]
    }
   ],
   "source": [
    "h1n1.info()"
   ]
  },
  {
   "cell_type": "code",
   "execution_count": 7,
   "metadata": {},
   "outputs": [
    {
     "data": {
      "text/plain": [
       "income_level                 4423\n",
       "dr_recc_h1n1_vacc            2160\n",
       "dr_recc_seasonal_vacc        2160\n",
       "housing_status               2042\n",
       "employment                   1463\n",
       "marital_status               1408\n",
       "qualification                1407\n",
       "chronic_medic_condition       971\n",
       "cont_child_undr_6_mnths       820\n",
       "is_health_worker              804\n",
       "sick_from_seas_vacc           537\n",
       "is_seas_risky                 514\n",
       "is_seas_vacc_effective        462\n",
       "sick_from_h1n1_vacc           395\n",
       "is_h1n1_vacc_effective        391\n",
       "is_h1n1_risky                 388\n",
       "no_of_adults                  249\n",
       "no_of_children                249\n",
       "contact_avoidance             208\n",
       "avoid_touch_face              128\n",
       "h1n1_awareness                116\n",
       "h1n1_worry                     92\n",
       "avoid_large_gatherings         87\n",
       "reduced_outside_home_cont      82\n",
       "antiviral_medication           71\n",
       "wash_hands_frequently          42\n",
       "bought_face_mask               19\n",
       "age_bracket                     0\n",
       "race                            0\n",
       "sex                             0\n",
       "census_msa                      0\n",
       "h1n1_vaccine                    0\n",
       "dtype: int64"
      ]
     },
     "execution_count": 7,
     "metadata": {},
     "output_type": "execute_result"
    }
   ],
   "source": [
    "h1n1.isnull().sum().sort_values(ascending=False)"
   ]
  },
  {
   "cell_type": "code",
   "execution_count": 8,
   "metadata": {},
   "outputs": [],
   "source": [
    "h1n1.h1n1_worry= h1n1.h1n1_worry.fillna(h1n1.h1n1_worry.mean())\n",
    "h1n1.h1n1_awareness= h1n1.h1n1_awareness.fillna(h1n1.h1n1_awareness.mean())\n",
    "h1n1.antiviral_medication= h1n1.antiviral_medication.fillna(h1n1.antiviral_medication.mean())\n",
    "h1n1.contact_avoidance= h1n1.contact_avoidance.fillna(h1n1.contact_avoidance.mean())\n",
    "h1n1.dr_recc_h1n1_vacc = h1n1.dr_recc_h1n1_vacc .fillna(h1n1.dr_recc_h1n1_vacc .mean())\n",
    "h1n1.dr_recc_seasonal_vacc   = h1n1.dr_recc_seasonal_vacc   .fillna(h1n1.dr_recc_seasonal_vacc   .mean())\n",
    "\n",
    "h1n1.chronic_medic_condition           = h1n1.chronic_medic_condition           .fillna(h1n1.chronic_medic_condition           .mean())\n",
    "h1n1.dr_recc_h1n1_vacc = h1n1.dr_recc_h1n1_vacc .fillna(h1n1.dr_recc_h1n1_vacc .mean())\n",
    "h1n1.cont_child_undr_6_mnths = h1n1.cont_child_undr_6_mnths .fillna(h1n1.cont_child_undr_6_mnths .mean())\n",
    "h1n1.is_health_worker = h1n1.is_health_worker .fillna(h1n1.is_health_worker .mean())\n",
    "h1n1.is_seas_risky = h1n1.is_seas_risky .fillna(h1n1.is_seas_risky .mean())\n",
    "h1n1.is_seas_vacc_effective = h1n1.is_seas_vacc_effective .fillna(h1n1.is_seas_vacc_effective .mean())\n",
    "h1n1.sick_from_seas_vacc = h1n1.sick_from_seas_vacc .fillna(h1n1.sick_from_seas_vacc .mean())\n",
    "h1n1.no_of_adults = h1n1.no_of_adults .fillna(h1n1.no_of_adults .mean())\n",
    "h1n1.no_of_children = h1n1.no_of_children .fillna(h1n1.no_of_children .mean())\n",
    "\n",
    "h1n1.sick_from_h1n1_vacc= h1n1.sick_from_h1n1_vacc.fillna(h1n1.sick_from_h1n1_vacc.mean())\n",
    "h1n1.is_h1n1_vacc_effective= h1n1.is_h1n1_vacc_effective.fillna(h1n1.is_h1n1_vacc_effective.mean())\n",
    "h1n1.is_h1n1_risky= h1n1.is_h1n1_risky.fillna(h1n1.is_h1n1_risky.mean())\n",
    "h1n1.avoid_touch_face= h1n1.avoid_touch_face.fillna(h1n1.avoid_touch_face.mean())\n",
    "h1n1.avoid_large_gatherings= h1n1.avoid_large_gatherings.fillna(h1n1.avoid_large_gatherings.mean())\n",
    "h1n1.reduced_outside_home_cont= h1n1.reduced_outside_home_cont.fillna(h1n1.reduced_outside_home_cont.mean())\n",
    "h1n1.wash_hands_frequently= h1n1.wash_hands_frequently.fillna(h1n1.wash_hands_frequently.mean())\n",
    "h1n1.bought_face_mask= h1n1.bought_face_mask.fillna(h1n1.bought_face_mask.mean())"
   ]
  },
  {
   "cell_type": "code",
   "execution_count": 9,
   "metadata": {},
   "outputs": [],
   "source": [
    "h1n1.housing_status=h1n1.housing_status.fillna('Own')\n",
    "h1n1.employment=h1n1.employment.fillna('Employed')\n",
    "h1n1.marital_status=h1n1.marital_status.fillna('Married')\n",
    "h1n1.qualification=h1n1.qualification.fillna('College Graduate')\n",
    "h1n1.income_level=h1n1.income_level.fillna('<= $75,000, Above Poverty')"
   ]
  },
  {
   "cell_type": "code",
   "execution_count": 10,
   "metadata": {},
   "outputs": [
    {
     "data": {
      "text/plain": [
       "h1n1_vaccine                 0\n",
       "no_of_children               0\n",
       "h1n1_awareness               0\n",
       "antiviral_medication         0\n",
       "contact_avoidance            0\n",
       "bought_face_mask             0\n",
       "wash_hands_frequently        0\n",
       "avoid_large_gatherings       0\n",
       "reduced_outside_home_cont    0\n",
       "avoid_touch_face             0\n",
       "dr_recc_h1n1_vacc            0\n",
       "dr_recc_seasonal_vacc        0\n",
       "chronic_medic_condition      0\n",
       "cont_child_undr_6_mnths      0\n",
       "is_health_worker             0\n",
       "is_h1n1_vacc_effective       0\n",
       "is_h1n1_risky                0\n",
       "sick_from_h1n1_vacc          0\n",
       "is_seas_vacc_effective       0\n",
       "is_seas_risky                0\n",
       "sick_from_seas_vacc          0\n",
       "age_bracket                  0\n",
       "qualification                0\n",
       "race                         0\n",
       "sex                          0\n",
       "income_level                 0\n",
       "marital_status               0\n",
       "housing_status               0\n",
       "employment                   0\n",
       "census_msa                   0\n",
       "no_of_adults                 0\n",
       "h1n1_worry                   0\n",
       "dtype: int64"
      ]
     },
     "execution_count": 10,
     "metadata": {},
     "output_type": "execute_result"
    }
   ],
   "source": [
    "h1n1.isnull().sum().sort_values(ascending=False)"
   ]
  },
  {
   "cell_type": "code",
   "execution_count": 11,
   "metadata": {},
   "outputs": [
    {
     "data": {
      "text/plain": [
       "Own     20778\n",
       "Rent     5929\n",
       "Name: housing_status, dtype: int64"
      ]
     },
     "execution_count": 11,
     "metadata": {},
     "output_type": "execute_result"
    }
   ],
   "source": [
    "h1n1.housing_status.value_counts()"
   ]
  },
  {
   "cell_type": "code",
   "execution_count": 12,
   "metadata": {},
   "outputs": [],
   "source": [
    "from sklearn.preprocessing import LabelEncoder"
   ]
  },
  {
   "cell_type": "code",
   "execution_count": 13,
   "metadata": {},
   "outputs": [],
   "source": [
    "le=LabelEncoder()"
   ]
  },
  {
   "cell_type": "code",
   "execution_count": 14,
   "metadata": {},
   "outputs": [],
   "source": [
    "h1n1[h1n1.select_dtypes(include=['object']).columns]=h1n1[h1n1.select_dtypes(include=['object']).columns].apply(le.fit_transform)"
   ]
  },
  {
   "cell_type": "code",
   "execution_count": 15,
   "metadata": {},
   "outputs": [
    {
     "data": {
      "text/html": [
       "<div>\n",
       "<style scoped>\n",
       "    .dataframe tbody tr th:only-of-type {\n",
       "        vertical-align: middle;\n",
       "    }\n",
       "\n",
       "    .dataframe tbody tr th {\n",
       "        vertical-align: top;\n",
       "    }\n",
       "\n",
       "    .dataframe thead th {\n",
       "        text-align: right;\n",
       "    }\n",
       "</style>\n",
       "<table border=\"1\" class=\"dataframe\">\n",
       "  <thead>\n",
       "    <tr style=\"text-align: right;\">\n",
       "      <th></th>\n",
       "      <th>h1n1_worry</th>\n",
       "      <th>h1n1_awareness</th>\n",
       "      <th>antiviral_medication</th>\n",
       "      <th>contact_avoidance</th>\n",
       "      <th>bought_face_mask</th>\n",
       "      <th>wash_hands_frequently</th>\n",
       "      <th>avoid_large_gatherings</th>\n",
       "      <th>reduced_outside_home_cont</th>\n",
       "      <th>avoid_touch_face</th>\n",
       "      <th>dr_recc_h1n1_vacc</th>\n",
       "      <th>...</th>\n",
       "      <th>race</th>\n",
       "      <th>sex</th>\n",
       "      <th>income_level</th>\n",
       "      <th>marital_status</th>\n",
       "      <th>housing_status</th>\n",
       "      <th>employment</th>\n",
       "      <th>census_msa</th>\n",
       "      <th>no_of_adults</th>\n",
       "      <th>no_of_children</th>\n",
       "      <th>h1n1_vaccine</th>\n",
       "    </tr>\n",
       "  </thead>\n",
       "  <tbody>\n",
       "    <tr>\n",
       "      <th>0</th>\n",
       "      <td>1.0</td>\n",
       "      <td>0.0</td>\n",
       "      <td>0.0</td>\n",
       "      <td>0.0</td>\n",
       "      <td>0.0</td>\n",
       "      <td>0.0</td>\n",
       "      <td>0.0</td>\n",
       "      <td>1.0</td>\n",
       "      <td>1.000000</td>\n",
       "      <td>0.000000</td>\n",
       "      <td>...</td>\n",
       "      <td>3</td>\n",
       "      <td>0</td>\n",
       "      <td>2</td>\n",
       "      <td>1</td>\n",
       "      <td>0</td>\n",
       "      <td>1</td>\n",
       "      <td>2</td>\n",
       "      <td>0.0</td>\n",
       "      <td>0.0</td>\n",
       "      <td>0</td>\n",
       "    </tr>\n",
       "    <tr>\n",
       "      <th>1</th>\n",
       "      <td>3.0</td>\n",
       "      <td>2.0</td>\n",
       "      <td>0.0</td>\n",
       "      <td>1.0</td>\n",
       "      <td>0.0</td>\n",
       "      <td>1.0</td>\n",
       "      <td>0.0</td>\n",
       "      <td>1.0</td>\n",
       "      <td>1.000000</td>\n",
       "      <td>0.000000</td>\n",
       "      <td>...</td>\n",
       "      <td>3</td>\n",
       "      <td>1</td>\n",
       "      <td>2</td>\n",
       "      <td>1</td>\n",
       "      <td>1</td>\n",
       "      <td>0</td>\n",
       "      <td>0</td>\n",
       "      <td>0.0</td>\n",
       "      <td>0.0</td>\n",
       "      <td>0</td>\n",
       "    </tr>\n",
       "    <tr>\n",
       "      <th>2</th>\n",
       "      <td>1.0</td>\n",
       "      <td>1.0</td>\n",
       "      <td>0.0</td>\n",
       "      <td>1.0</td>\n",
       "      <td>0.0</td>\n",
       "      <td>0.0</td>\n",
       "      <td>0.0</td>\n",
       "      <td>0.0</td>\n",
       "      <td>0.000000</td>\n",
       "      <td>0.220312</td>\n",
       "      <td>...</td>\n",
       "      <td>3</td>\n",
       "      <td>1</td>\n",
       "      <td>0</td>\n",
       "      <td>1</td>\n",
       "      <td>0</td>\n",
       "      <td>0</td>\n",
       "      <td>0</td>\n",
       "      <td>2.0</td>\n",
       "      <td>0.0</td>\n",
       "      <td>0</td>\n",
       "    </tr>\n",
       "    <tr>\n",
       "      <th>3</th>\n",
       "      <td>1.0</td>\n",
       "      <td>1.0</td>\n",
       "      <td>0.0</td>\n",
       "      <td>1.0</td>\n",
       "      <td>0.0</td>\n",
       "      <td>1.0</td>\n",
       "      <td>1.0</td>\n",
       "      <td>0.0</td>\n",
       "      <td>0.000000</td>\n",
       "      <td>0.000000</td>\n",
       "      <td>...</td>\n",
       "      <td>3</td>\n",
       "      <td>0</td>\n",
       "      <td>2</td>\n",
       "      <td>1</td>\n",
       "      <td>1</td>\n",
       "      <td>1</td>\n",
       "      <td>1</td>\n",
       "      <td>0.0</td>\n",
       "      <td>0.0</td>\n",
       "      <td>0</td>\n",
       "    </tr>\n",
       "    <tr>\n",
       "      <th>4</th>\n",
       "      <td>2.0</td>\n",
       "      <td>1.0</td>\n",
       "      <td>0.0</td>\n",
       "      <td>1.0</td>\n",
       "      <td>0.0</td>\n",
       "      <td>1.0</td>\n",
       "      <td>1.0</td>\n",
       "      <td>0.0</td>\n",
       "      <td>1.000000</td>\n",
       "      <td>0.000000</td>\n",
       "      <td>...</td>\n",
       "      <td>3</td>\n",
       "      <td>0</td>\n",
       "      <td>0</td>\n",
       "      <td>0</td>\n",
       "      <td>0</td>\n",
       "      <td>0</td>\n",
       "      <td>0</td>\n",
       "      <td>1.0</td>\n",
       "      <td>0.0</td>\n",
       "      <td>0</td>\n",
       "    </tr>\n",
       "    <tr>\n",
       "      <th>...</th>\n",
       "      <td>...</td>\n",
       "      <td>...</td>\n",
       "      <td>...</td>\n",
       "      <td>...</td>\n",
       "      <td>...</td>\n",
       "      <td>...</td>\n",
       "      <td>...</td>\n",
       "      <td>...</td>\n",
       "      <td>...</td>\n",
       "      <td>...</td>\n",
       "      <td>...</td>\n",
       "      <td>...</td>\n",
       "      <td>...</td>\n",
       "      <td>...</td>\n",
       "      <td>...</td>\n",
       "      <td>...</td>\n",
       "      <td>...</td>\n",
       "      <td>...</td>\n",
       "      <td>...</td>\n",
       "      <td>...</td>\n",
       "      <td>...</td>\n",
       "    </tr>\n",
       "    <tr>\n",
       "      <th>26702</th>\n",
       "      <td>2.0</td>\n",
       "      <td>0.0</td>\n",
       "      <td>0.0</td>\n",
       "      <td>1.0</td>\n",
       "      <td>0.0</td>\n",
       "      <td>0.0</td>\n",
       "      <td>0.0</td>\n",
       "      <td>1.0</td>\n",
       "      <td>0.000000</td>\n",
       "      <td>0.000000</td>\n",
       "      <td>...</td>\n",
       "      <td>3</td>\n",
       "      <td>0</td>\n",
       "      <td>0</td>\n",
       "      <td>1</td>\n",
       "      <td>0</td>\n",
       "      <td>1</td>\n",
       "      <td>2</td>\n",
       "      <td>0.0</td>\n",
       "      <td>0.0</td>\n",
       "      <td>0</td>\n",
       "    </tr>\n",
       "    <tr>\n",
       "      <th>26703</th>\n",
       "      <td>1.0</td>\n",
       "      <td>2.0</td>\n",
       "      <td>0.0</td>\n",
       "      <td>1.0</td>\n",
       "      <td>0.0</td>\n",
       "      <td>1.0</td>\n",
       "      <td>0.0</td>\n",
       "      <td>0.0</td>\n",
       "      <td>0.000000</td>\n",
       "      <td>1.000000</td>\n",
       "      <td>...</td>\n",
       "      <td>3</td>\n",
       "      <td>1</td>\n",
       "      <td>0</td>\n",
       "      <td>1</td>\n",
       "      <td>1</td>\n",
       "      <td>0</td>\n",
       "      <td>1</td>\n",
       "      <td>1.0</td>\n",
       "      <td>0.0</td>\n",
       "      <td>0</td>\n",
       "    </tr>\n",
       "    <tr>\n",
       "      <th>26704</th>\n",
       "      <td>2.0</td>\n",
       "      <td>2.0</td>\n",
       "      <td>0.0</td>\n",
       "      <td>1.0</td>\n",
       "      <td>1.0</td>\n",
       "      <td>1.0</td>\n",
       "      <td>1.0</td>\n",
       "      <td>0.0</td>\n",
       "      <td>1.000000</td>\n",
       "      <td>0.000000</td>\n",
       "      <td>...</td>\n",
       "      <td>3</td>\n",
       "      <td>0</td>\n",
       "      <td>0</td>\n",
       "      <td>1</td>\n",
       "      <td>0</td>\n",
       "      <td>0</td>\n",
       "      <td>0</td>\n",
       "      <td>0.0</td>\n",
       "      <td>0.0</td>\n",
       "      <td>0</td>\n",
       "    </tr>\n",
       "    <tr>\n",
       "      <th>26705</th>\n",
       "      <td>1.0</td>\n",
       "      <td>1.0</td>\n",
       "      <td>0.0</td>\n",
       "      <td>0.0</td>\n",
       "      <td>0.0</td>\n",
       "      <td>0.0</td>\n",
       "      <td>0.0</td>\n",
       "      <td>0.0</td>\n",
       "      <td>0.677264</td>\n",
       "      <td>0.000000</td>\n",
       "      <td>...</td>\n",
       "      <td>1</td>\n",
       "      <td>0</td>\n",
       "      <td>0</td>\n",
       "      <td>0</td>\n",
       "      <td>1</td>\n",
       "      <td>0</td>\n",
       "      <td>2</td>\n",
       "      <td>1.0</td>\n",
       "      <td>0.0</td>\n",
       "      <td>0</td>\n",
       "    </tr>\n",
       "    <tr>\n",
       "      <th>26706</th>\n",
       "      <td>0.0</td>\n",
       "      <td>0.0</td>\n",
       "      <td>0.0</td>\n",
       "      <td>1.0</td>\n",
       "      <td>0.0</td>\n",
       "      <td>0.0</td>\n",
       "      <td>0.0</td>\n",
       "      <td>0.0</td>\n",
       "      <td>0.000000</td>\n",
       "      <td>0.000000</td>\n",
       "      <td>...</td>\n",
       "      <td>3</td>\n",
       "      <td>1</td>\n",
       "      <td>0</td>\n",
       "      <td>0</td>\n",
       "      <td>0</td>\n",
       "      <td>1</td>\n",
       "      <td>1</td>\n",
       "      <td>1.0</td>\n",
       "      <td>0.0</td>\n",
       "      <td>0</td>\n",
       "    </tr>\n",
       "  </tbody>\n",
       "</table>\n",
       "<p>26707 rows × 32 columns</p>\n",
       "</div>"
      ],
      "text/plain": [
       "       h1n1_worry  h1n1_awareness  antiviral_medication  contact_avoidance  \\\n",
       "0             1.0             0.0                   0.0                0.0   \n",
       "1             3.0             2.0                   0.0                1.0   \n",
       "2             1.0             1.0                   0.0                1.0   \n",
       "3             1.0             1.0                   0.0                1.0   \n",
       "4             2.0             1.0                   0.0                1.0   \n",
       "...           ...             ...                   ...                ...   \n",
       "26702         2.0             0.0                   0.0                1.0   \n",
       "26703         1.0             2.0                   0.0                1.0   \n",
       "26704         2.0             2.0                   0.0                1.0   \n",
       "26705         1.0             1.0                   0.0                0.0   \n",
       "26706         0.0             0.0                   0.0                1.0   \n",
       "\n",
       "       bought_face_mask  wash_hands_frequently  avoid_large_gatherings  \\\n",
       "0                   0.0                    0.0                     0.0   \n",
       "1                   0.0                    1.0                     0.0   \n",
       "2                   0.0                    0.0                     0.0   \n",
       "3                   0.0                    1.0                     1.0   \n",
       "4                   0.0                    1.0                     1.0   \n",
       "...                 ...                    ...                     ...   \n",
       "26702               0.0                    0.0                     0.0   \n",
       "26703               0.0                    1.0                     0.0   \n",
       "26704               1.0                    1.0                     1.0   \n",
       "26705               0.0                    0.0                     0.0   \n",
       "26706               0.0                    0.0                     0.0   \n",
       "\n",
       "       reduced_outside_home_cont  avoid_touch_face  dr_recc_h1n1_vacc  ...  \\\n",
       "0                            1.0          1.000000           0.000000  ...   \n",
       "1                            1.0          1.000000           0.000000  ...   \n",
       "2                            0.0          0.000000           0.220312  ...   \n",
       "3                            0.0          0.000000           0.000000  ...   \n",
       "4                            0.0          1.000000           0.000000  ...   \n",
       "...                          ...               ...                ...  ...   \n",
       "26702                        1.0          0.000000           0.000000  ...   \n",
       "26703                        0.0          0.000000           1.000000  ...   \n",
       "26704                        0.0          1.000000           0.000000  ...   \n",
       "26705                        0.0          0.677264           0.000000  ...   \n",
       "26706                        0.0          0.000000           0.000000  ...   \n",
       "\n",
       "       race  sex  income_level  marital_status  housing_status  employment  \\\n",
       "0         3    0             2               1               0           1   \n",
       "1         3    1             2               1               1           0   \n",
       "2         3    1             0               1               0           0   \n",
       "3         3    0             2               1               1           1   \n",
       "4         3    0             0               0               0           0   \n",
       "...     ...  ...           ...             ...             ...         ...   \n",
       "26702     3    0             0               1               0           1   \n",
       "26703     3    1             0               1               1           0   \n",
       "26704     3    0             0               1               0           0   \n",
       "26705     1    0             0               0               1           0   \n",
       "26706     3    1             0               0               0           1   \n",
       "\n",
       "       census_msa  no_of_adults  no_of_children  h1n1_vaccine  \n",
       "0               2           0.0             0.0             0  \n",
       "1               0           0.0             0.0             0  \n",
       "2               0           2.0             0.0             0  \n",
       "3               1           0.0             0.0             0  \n",
       "4               0           1.0             0.0             0  \n",
       "...           ...           ...             ...           ...  \n",
       "26702           2           0.0             0.0             0  \n",
       "26703           1           1.0             0.0             0  \n",
       "26704           0           0.0             0.0             0  \n",
       "26705           2           1.0             0.0             0  \n",
       "26706           1           1.0             0.0             0  \n",
       "\n",
       "[26707 rows x 32 columns]"
      ]
     },
     "execution_count": 15,
     "metadata": {},
     "output_type": "execute_result"
    }
   ],
   "source": [
    "h1n1"
   ]
  },
  {
   "cell_type": "code",
   "execution_count": 25,
   "metadata": {},
   "outputs": [],
   "source": [
    "from sklearn.linear_model import LogisticRegression"
   ]
  },
  {
   "cell_type": "code",
   "execution_count": 26,
   "metadata": {},
   "outputs": [],
   "source": [
    "lr=LogisticRegression()"
   ]
  },
  {
   "cell_type": "code",
   "execution_count": 27,
   "metadata": {},
   "outputs": [],
   "source": [
    "from sklearn.model_selection import train_test_split"
   ]
  },
  {
   "cell_type": "code",
   "execution_count": 28,
   "metadata": {},
   "outputs": [],
   "source": [
    "h1n1_train,h1n1_test=train_test_split(h1n1,test_size=.2,random_state=100)"
   ]
  },
  {
   "cell_type": "code",
   "execution_count": 31,
   "metadata": {},
   "outputs": [],
   "source": [
    "h1n1_train_x=h1n1_train.iloc[:,0:-1]\n",
    "h1n1_train_y=h1n1_train.iloc[:,-1]\n"
   ]
  },
  {
   "cell_type": "code",
   "execution_count": 32,
   "metadata": {},
   "outputs": [],
   "source": [
    "h1n1_test_x=h1n1_test.iloc[:,0:-1]\n",
    "h1n1_test_y=h1n1_test.iloc[:,-1]"
   ]
  },
  {
   "cell_type": "code",
   "execution_count": 33,
   "metadata": {},
   "outputs": [
    {
     "data": {
      "text/plain": [
       "LogisticRegression()"
      ]
     },
     "execution_count": 33,
     "metadata": {},
     "output_type": "execute_result"
    }
   ],
   "source": [
    "lr.fit(h1n1_train_x,h1n1_train_y)"
   ]
  },
  {
   "cell_type": "code",
   "execution_count": 34,
   "metadata": {},
   "outputs": [],
   "source": [
    "pred_h1n1=lr.predict(h1n1_test_x)"
   ]
  },
  {
   "cell_type": "code",
   "execution_count": 36,
   "metadata": {},
   "outputs": [],
   "source": [
    "from sklearn.metrics import confusion_matrix\n",
    "from sklearn.metrics import accuracy_score\n",
    "from sklearn.metrics import recall_score\n",
    "from sklearn.metrics import precision_score\n",
    "from sklearn.metrics import f1_score\n",
    "from sklearn.metrics import roc_auc_score, roc_curve"
   ]
  },
  {
   "cell_type": "code",
   "execution_count": 37,
   "metadata": {},
   "outputs": [
    {
     "data": {
      "text/plain": [
       "array([[3991,  644],\n",
       "       [ 228,  479]], dtype=int64)"
      ]
     },
     "execution_count": 37,
     "metadata": {},
     "output_type": "execute_result"
    }
   ],
   "source": [
    "matrix_h1n1=confusion_matrix(pred_h1n1,h1n1_test_y)\n",
    "matrix_h1n1"
   ]
  },
  {
   "cell_type": "code",
   "execution_count": 38,
   "metadata": {},
   "outputs": [
    {
     "data": {
      "text/plain": [
       "0.8367652564582553"
      ]
     },
     "execution_count": 38,
     "metadata": {},
     "output_type": "execute_result"
    }
   ],
   "source": [
    "# accuracy\n",
    "accuracy_score(h1n1_test_y,pred_h1n1)"
   ]
  },
  {
   "cell_type": "code",
   "execution_count": 39,
   "metadata": {},
   "outputs": [
    {
     "data": {
      "text/plain": [
       "0.42653606411398043"
      ]
     },
     "execution_count": 39,
     "metadata": {},
     "output_type": "execute_result"
    }
   ],
   "source": [
    "# TPR\n",
    "recall_score(h1n1_test_y,pred_h1n1)"
   ]
  },
  {
   "cell_type": "code",
   "execution_count": 40,
   "metadata": {},
   "outputs": [
    {
     "data": {
      "text/plain": [
       "0.6775106082036775"
      ]
     },
     "execution_count": 40,
     "metadata": {},
     "output_type": "execute_result"
    }
   ],
   "source": [
    "precision_score(h1n1_test_y,pred_h1n1)"
   ]
  },
  {
   "cell_type": "code",
   "execution_count": 41,
   "metadata": {},
   "outputs": [
    {
     "data": {
      "text/plain": [
       "0.523497267759563"
      ]
     },
     "execution_count": 41,
     "metadata": {},
     "output_type": "execute_result"
    }
   ],
   "source": [
    "f1_score(h1n1_test_y,pred_h1n1)"
   ]
  },
  {
   "cell_type": "code",
   "execution_count": null,
   "metadata": {},
   "outputs": [],
   "source": []
  },
  {
   "cell_type": "code",
   "execution_count": 1,
   "metadata": {},
   "outputs": [],
   "source": []
  },
  {
   "cell_type": "code",
   "execution_count": 1,
   "metadata": {},
   "outputs": [],
   "source": []
  }
 ],
 "metadata": {
  "kernelspec": {
   "display_name": "Python 3 (ipykernel)",
   "language": "python",
   "name": "python3"
  },
  "language_info": {
   "codemirror_mode": {
    "name": "ipython",
    "version": 3
   },
   "file_extension": ".py",
   "mimetype": "text/x-python",
   "name": "python",
   "nbconvert_exporter": "python",
   "pygments_lexer": "ipython3",
   "version": "3.9.7"
  }
 },
 "nbformat": 4,
 "nbformat_minor": 4
}
